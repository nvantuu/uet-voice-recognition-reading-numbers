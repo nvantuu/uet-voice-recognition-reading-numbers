{
 "cells": [
  {
   "cell_type": "markdown",
   "id": "8315e953-8bc0-4573-ba7c-efd6f3eabf62",
   "metadata": {
    "id": "8315e953-8bc0-4573-ba7c-efd6f3eabf62"
   },
   "source": [
    "# I. Extract MFCCs features\n",
    "Use the collected data (in groups), extracting the  MFCC  feature (39 features, including  MFCC, delta, deltadelta) of each voice command / number."
   ]
  },
  {
   "cell_type": "code",
   "execution_count": null,
   "id": "a97a91c1-2347-4878-b46f-9cf585dfa359",
   "metadata": {
    "id": "a97a91c1-2347-4878-b46f-9cf585dfa359"
   },
   "outputs": [],
   "source": [
    "import matplotlib.pyplot as plt\n",
    "import matplotlib.style as ms\n",
    "ms.use('seaborn-muted')\n",
    "%matplotlib inline\n",
    "\n",
    "import glob\n",
    "import os\n",
    "\n",
    "import numpy as np\n",
    "import pandas as pd\n",
    "\n",
    "import librosa\n",
    "import librosa.display\n",
    "import IPython.display"
   ]
  },
  {
   "cell_type": "code",
   "execution_count": null,
   "id": "414c58ee-ee13-482a-9e29-1b390f58fe68",
   "metadata": {
    "id": "414c58ee-ee13-482a-9e29-1b390f58fe68"
   },
   "outputs": [],
   "source": [
    "class Config:\n",
    "     n_mfcc = 13\n",
    "     hop_length = 512\n",
    "     n_frame = 12\n",
    "    \n",
    "c = Config()"
   ]
  },
  {
   "cell_type": "code",
   "execution_count": null,
   "id": "50fe96b1-528d-407f-9abb-4742b0ff1593",
   "metadata": {
    "id": "50fe96b1-528d-407f-9abb-4742b0ff1593"
   },
   "outputs": [],
   "source": [
    "data_dir = \"./19021381_NguyenVanTu\"\n",
    "label_fnames = glob.glob(os.path.join(data_dir, \"*.txt\"))\n",
    "label_fnames = [os.path.basename(label_fname) for label_fname in label_fnames]"
   ]
  },
  {
   "cell_type": "code",
   "execution_count": null,
   "id": "9c30c5d3-aa8a-4a3c-b2eb-1223bd61390c",
   "metadata": {
    "id": "9c30c5d3-aa8a-4a3c-b2eb-1223bd61390c"
   },
   "outputs": [],
   "source": [
    "df = pd.DataFrame(columns=[\"fid\", \"label\", \"start\", \"end\"])"
   ]
  },
  {
   "cell_type": "code",
   "execution_count": null,
   "id": "3c3f84e1-1b9d-41cc-ad55-2a832e6b1e13",
   "metadata": {
    "id": "3c3f84e1-1b9d-41cc-ad55-2a832e6b1e13"
   },
   "outputs": [],
   "source": [
    "for fname in label_fnames:\n",
    "    df_i = pd.read_csv(os.path.join(data_dir, fname), sep=\"\\t\", header=None)\n",
    "    df_i = df_i.rename(columns={2:\"label\", 0:\"start\", 1:\"end\"})\n",
    "    df_i[\"fid\"] = [fname.split('.')[0]]*len(df_i)\n",
    "    df = pd.concat([df, df_i], axis=0, ignore_index=True)"
   ]
  },
  {
   "cell_type": "code",
   "execution_count": null,
   "id": "5b83d43f-7abd-4a53-830b-4bed80db7686",
   "metadata": {
    "id": "5b83d43f-7abd-4a53-830b-4bed80db7686",
    "outputId": "4f2e7edf-0836-46b4-a45d-a31f71f10618"
   },
   "outputs": [
    {
     "data": {
      "text/html": [
       "<div>\n",
       "<style scoped>\n",
       "    .dataframe tbody tr th:only-of-type {\n",
       "        vertical-align: middle;\n",
       "    }\n",
       "\n",
       "    .dataframe tbody tr th {\n",
       "        vertical-align: top;\n",
       "    }\n",
       "\n",
       "    .dataframe thead th {\n",
       "        text-align: right;\n",
       "    }\n",
       "</style>\n",
       "<table border=\"1\" class=\"dataframe\">\n",
       "  <thead>\n",
       "    <tr style=\"text-align: right;\">\n",
       "      <th></th>\n",
       "      <th>fid</th>\n",
       "      <th>label</th>\n",
       "      <th>start</th>\n",
       "      <th>end</th>\n",
       "    </tr>\n",
       "  </thead>\n",
       "  <tbody>\n",
       "    <tr>\n",
       "      <th>0</th>\n",
       "      <td>c0</td>\n",
       "      <td>sil</td>\n",
       "      <td>0.000000</td>\n",
       "      <td>1.715374</td>\n",
       "    </tr>\n",
       "    <tr>\n",
       "      <th>1</th>\n",
       "      <td>c0</td>\n",
       "      <td>7</td>\n",
       "      <td>1.715374</td>\n",
       "      <td>2.017234</td>\n",
       "    </tr>\n",
       "    <tr>\n",
       "      <th>2</th>\n",
       "      <td>c0</td>\n",
       "      <td>tram</td>\n",
       "      <td>2.017234</td>\n",
       "      <td>2.263946</td>\n",
       "    </tr>\n",
       "    <tr>\n",
       "      <th>3</th>\n",
       "      <td>c0</td>\n",
       "      <td>6</td>\n",
       "      <td>2.281361</td>\n",
       "      <td>2.499048</td>\n",
       "    </tr>\n",
       "    <tr>\n",
       "      <th>4</th>\n",
       "      <td>c0</td>\n",
       "      <td>muoi</td>\n",
       "      <td>2.499048</td>\n",
       "      <td>2.583220</td>\n",
       "    </tr>\n",
       "    <tr>\n",
       "      <th>...</th>\n",
       "      <td>...</td>\n",
       "      <td>...</td>\n",
       "      <td>...</td>\n",
       "      <td>...</td>\n",
       "    </tr>\n",
       "    <tr>\n",
       "      <th>1836</th>\n",
       "      <td>c99</td>\n",
       "      <td>0</td>\n",
       "      <td>4.519184</td>\n",
       "      <td>4.800726</td>\n",
       "    </tr>\n",
       "    <tr>\n",
       "      <th>1837</th>\n",
       "      <td>c99</td>\n",
       "      <td>tram</td>\n",
       "      <td>4.800726</td>\n",
       "      <td>5.096780</td>\n",
       "    </tr>\n",
       "    <tr>\n",
       "      <th>1838</th>\n",
       "      <td>c99</td>\n",
       "      <td>linh</td>\n",
       "      <td>5.096780</td>\n",
       "      <td>5.305760</td>\n",
       "    </tr>\n",
       "    <tr>\n",
       "      <th>1839</th>\n",
       "      <td>c99</td>\n",
       "      <td>9</td>\n",
       "      <td>5.326077</td>\n",
       "      <td>5.700499</td>\n",
       "    </tr>\n",
       "    <tr>\n",
       "      <th>1840</th>\n",
       "      <td>c99</td>\n",
       "      <td>sil</td>\n",
       "      <td>5.677279</td>\n",
       "      <td>6.168435</td>\n",
       "    </tr>\n",
       "  </tbody>\n",
       "</table>\n",
       "<p>1841 rows × 4 columns</p>\n",
       "</div>"
      ],
      "text/plain": [
       "      fid label     start       end\n",
       "0      c0   sil  0.000000  1.715374\n",
       "1      c0     7  1.715374  2.017234\n",
       "2      c0  tram  2.017234  2.263946\n",
       "3      c0     6  2.281361  2.499048\n",
       "4      c0  muoi  2.499048  2.583220\n",
       "...   ...   ...       ...       ...\n",
       "1836  c99     0  4.519184  4.800726\n",
       "1837  c99  tram  4.800726  5.096780\n",
       "1838  c99  linh  5.096780  5.305760\n",
       "1839  c99     9  5.326077  5.700499\n",
       "1840  c99   sil  5.677279  6.168435\n",
       "\n",
       "[1841 rows x 4 columns]"
      ]
     },
     "execution_count": 1194,
     "metadata": {},
     "output_type": "execute_result"
    }
   ],
   "source": [
    "# df[\"mfcc_features\"] = [np.nan]*len(df)\n",
    "df"
   ]
  },
  {
   "cell_type": "markdown",
   "id": "844ce742-3e9c-4bb4-a5c9-b95be2b4bc16",
   "metadata": {
    "id": "844ce742-3e9c-4bb4-a5c9-b95be2b4bc16"
   },
   "source": [
    "#### Get unique file names"
   ]
  },
  {
   "cell_type": "code",
   "execution_count": null,
   "id": "ed46802e-2030-4ea4-a7f2-a3af8ae91324",
   "metadata": {
    "id": "ed46802e-2030-4ea4-a7f2-a3af8ae91324",
    "outputId": "18e13f63-78d0-4765-9244-c915f1fcaa6c"
   },
   "outputs": [
    {
     "data": {
      "text/plain": [
       "array(['c0', 'c1', 'c10', 'c11', 'c12', 'c13', 'c14', 'c15', 'c16', 'c17',\n",
       "       'c18', 'c19', 'c2', 'c20', 'c21', 'c22', 'c23', 'c24', 'c25',\n",
       "       'c26', 'c27', 'c28', 'c29', 'c3', 'c30', 'c31', 'c32', 'c33',\n",
       "       'c34', 'c35', 'c36', 'c37', 'c38', 'c39', 'c4', 'c40', 'c41',\n",
       "       'c42', 'c43', 'c44', 'c45', 'c46', 'c47', 'c48', 'c49', 'c5',\n",
       "       'c50', 'c51', 'c52', 'c53', 'c54', 'c55', 'c56', 'c57', 'c58',\n",
       "       'c59', 'c6', 'c60', 'c61', 'c62', 'c63', 'c64', 'c65', 'c66',\n",
       "       'c67', 'c68', 'c69', 'c7', 'c70', 'c71', 'c72', 'c73', 'c74',\n",
       "       'c75', 'c76', 'c77', 'c78', 'c79', 'c8', 'c80', 'c81', 'c82',\n",
       "       'c83', 'c84', 'c85', 'c86', 'c87', 'c88', 'c89', 'c9', 'c90',\n",
       "       'c91', 'c92', 'c93', 'c94', 'c95', 'c96', 'c97', 'c98', 'c99'],\n",
       "      dtype=object)"
      ]
     },
     "execution_count": 1195,
     "metadata": {},
     "output_type": "execute_result"
    }
   ],
   "source": [
    "fids = df['fid'].unique()\n",
    "fids"
   ]
  },
  {
   "cell_type": "markdown",
   "id": "e18d9ea9-ee60-4599-9431-b04e190cfe27",
   "metadata": {
    "id": "e18d9ea9-ee60-4599-9431-b04e190cfe27"
   },
   "source": [
    "#### Check unique label in dataframe, there are 20"
   ]
  },
  {
   "cell_type": "code",
   "execution_count": null,
   "id": "bb23f262-16c1-46aa-b1ab-f3f9054636af",
   "metadata": {
    "id": "bb23f262-16c1-46aa-b1ab-f3f9054636af",
    "outputId": "ca0e9f57-1017-432b-e26c-5bf8852840cf"
   },
   "outputs": [
    {
     "name": "stdout",
     "output_type": "stream",
     "text": [
      "20\n",
      "['sil', '7', 'tram', '6', 'muoi', '9', 'trieu', '8', '3', '2', 'nghin', 'linh', '4', '5', 'tu', 'm1', '1', 'mot', 'lam', '0']\n"
     ]
    }
   ],
   "source": [
    "labels = list(df['label'].unique())\n",
    "print(len(labels))\n",
    "print(labels)"
   ]
  },
  {
   "cell_type": "markdown",
   "id": "c033cf41-195a-4818-84eb-5e21c8cca7e6",
   "metadata": {
    "id": "c033cf41-195a-4818-84eb-5e21c8cca7e6"
   },
   "source": [
    "#### Function to calculate mfcc for each 'word'/'sound'"
   ]
  },
  {
   "cell_type": "code",
   "execution_count": null,
   "id": "be64902f-c762-4442-931d-84221382e52b",
   "metadata": {
    "id": "be64902f-c762-4442-931d-84221382e52b"
   },
   "outputs": [],
   "source": [
    "def get_mfcc_features(x, sound, sr, hop_length):\n",
    "    # start sample, end sample, and calculate mfcc in the interval (s, e)\n",
    "    s, e = int(np.floor(x.loc[\"start\"]*sr)), int(np.ceil(x.loc[\"end\"]*sr))\n",
    "    mfcc = librosa.feature.mfcc(y=sound[s:e], sr=sr, n_mfcc=c.n_mfcc, hop_length=hop_length)\n",
    "\n",
    "    delta = librosa.feature.delta(mfcc, width=3)\n",
    "    delta_2 = librosa.feature.delta(mfcc, order=2, width=3)\n",
    "    features = np.concatenate((mfcc, delta, delta_2))\n",
    "    \n",
    "    # The 'features' calculated array is of the form (39, 74), whose mfcc features are vectors of length 39\n",
    "    # we will transpose the matrix\n",
    "    return features.T"
   ]
  },
  {
   "cell_type": "markdown",
   "id": "e185d6fb-6507-4dbe-8b85-195a61c134b9",
   "metadata": {
    "id": "e185d6fb-6507-4dbe-8b85-195a61c134b9"
   },
   "source": [
    "#### Calculate MFCC over dataframe"
   ]
  },
  {
   "cell_type": "code",
   "execution_count": null,
   "id": "987c4ba6-a55e-447c-97fa-7470f1310c07",
   "metadata": {
    "id": "987c4ba6-a55e-447c-97fa-7470f1310c07",
    "outputId": "b8432367-6b5f-402d-8944-e665c9e493bc"
   },
   "outputs": [
    {
     "name": "stderr",
     "output_type": "stream",
     "text": [
      "C:\\Users\\TuNV\\anaconda3\\lib\\site-packages\\librosa\\util\\decorators.py:88: UserWarning: n_fft=2048 is too small for input signal of length=1857\n",
      "  return f(*args, **kwargs)\n",
      "C:\\Users\\TuNV\\anaconda3\\lib\\site-packages\\librosa\\util\\decorators.py:88: UserWarning: n_fft=2048 is too small for input signal of length=1729\n",
      "  return f(*args, **kwargs)\n",
      "C:\\Users\\TuNV\\anaconda3\\lib\\site-packages\\librosa\\util\\decorators.py:88: UserWarning: n_fft=2048 is too small for input signal of length=1730\n",
      "  return f(*args, **kwargs)\n",
      "C:\\Users\\TuNV\\anaconda3\\lib\\site-packages\\librosa\\util\\decorators.py:88: UserWarning: n_fft=2048 is too small for input signal of length=1986\n",
      "  return f(*args, **kwargs)\n"
     ]
    }
   ],
   "source": [
    "for fid in fids:\n",
    "    sound_file_path = os.path.join(data_dir, fid+\".wav\")\n",
    "    # optimized calculation speed, read files only once\n",
    "    sound, sr = librosa.load(sound_file_path)\n",
    "    dfi = df[df[\"fid\"] == fid]\n",
    "    \n",
    "    # 'apply' function is used dataframe along data vertical axis\n",
    "    df.loc[df[\"fid\"] == fid, \"mfcc_origin\"] = dfi.apply(get_mfcc_features, args=(sound, sr, c.hop_length), axis=1)"
   ]
  },
  {
   "cell_type": "code",
   "execution_count": null,
   "id": "c12f2df8-47fb-48d2-8a63-e8e3aebd2e86",
   "metadata": {
    "id": "c12f2df8-47fb-48d2-8a63-e8e3aebd2e86",
    "outputId": "b003b71d-ddc4-4e69-842f-70a7063b8a49"
   },
   "outputs": [
    {
     "data": {
      "text/html": [
       "<div>\n",
       "<style scoped>\n",
       "    .dataframe tbody tr th:only-of-type {\n",
       "        vertical-align: middle;\n",
       "    }\n",
       "\n",
       "    .dataframe tbody tr th {\n",
       "        vertical-align: top;\n",
       "    }\n",
       "\n",
       "    .dataframe thead th {\n",
       "        text-align: right;\n",
       "    }\n",
       "</style>\n",
       "<table border=\"1\" class=\"dataframe\">\n",
       "  <thead>\n",
       "    <tr style=\"text-align: right;\">\n",
       "      <th></th>\n",
       "      <th>fid</th>\n",
       "      <th>label</th>\n",
       "      <th>start</th>\n",
       "      <th>end</th>\n",
       "      <th>mfcc_origin</th>\n",
       "    </tr>\n",
       "  </thead>\n",
       "  <tbody>\n",
       "    <tr>\n",
       "      <th>0</th>\n",
       "      <td>c0</td>\n",
       "      <td>sil</td>\n",
       "      <td>0.000000</td>\n",
       "      <td>1.715374</td>\n",
       "      <td>[[-377.72638, 40.630905, -13.1483, -4.639365, ...</td>\n",
       "    </tr>\n",
       "    <tr>\n",
       "      <th>1</th>\n",
       "      <td>c0</td>\n",
       "      <td>7</td>\n",
       "      <td>1.715374</td>\n",
       "      <td>2.017234</td>\n",
       "      <td>[[-357.71417, 59.718376, 9.188358, 21.0169, 8....</td>\n",
       "    </tr>\n",
       "    <tr>\n",
       "      <th>2</th>\n",
       "      <td>c0</td>\n",
       "      <td>tram</td>\n",
       "      <td>2.017234</td>\n",
       "      <td>2.263946</td>\n",
       "      <td>[[-347.2093, 65.41372, 6.2780967, 44.874367, -...</td>\n",
       "    </tr>\n",
       "    <tr>\n",
       "      <th>3</th>\n",
       "      <td>c0</td>\n",
       "      <td>6</td>\n",
       "      <td>2.281361</td>\n",
       "      <td>2.499048</td>\n",
       "      <td>[[-247.0961, 53.51671, 33.677433, 68.47664, -4...</td>\n",
       "    </tr>\n",
       "    <tr>\n",
       "      <th>4</th>\n",
       "      <td>c0</td>\n",
       "      <td>muoi</td>\n",
       "      <td>2.499048</td>\n",
       "      <td>2.583220</td>\n",
       "      <td>[[-301.981, 176.73502, -5.473352, 5.813934, 8....</td>\n",
       "    </tr>\n",
       "    <tr>\n",
       "      <th>...</th>\n",
       "      <td>...</td>\n",
       "      <td>...</td>\n",
       "      <td>...</td>\n",
       "      <td>...</td>\n",
       "      <td>...</td>\n",
       "    </tr>\n",
       "    <tr>\n",
       "      <th>1836</th>\n",
       "      <td>c99</td>\n",
       "      <td>0</td>\n",
       "      <td>4.519184</td>\n",
       "      <td>4.800726</td>\n",
       "      <td>[[-498.15326, 75.88043, -6.5175834, -32.514927...</td>\n",
       "    </tr>\n",
       "    <tr>\n",
       "      <th>1837</th>\n",
       "      <td>c99</td>\n",
       "      <td>tram</td>\n",
       "      <td>4.800726</td>\n",
       "      <td>5.096780</td>\n",
       "      <td>[[-466.44724, -24.463057, -6.129795, 27.253609...</td>\n",
       "    </tr>\n",
       "    <tr>\n",
       "      <th>1838</th>\n",
       "      <td>c99</td>\n",
       "      <td>linh</td>\n",
       "      <td>5.096780</td>\n",
       "      <td>5.305760</td>\n",
       "      <td>[[-421.04462, 181.96613, -11.485994, 0.4892928...</td>\n",
       "    </tr>\n",
       "    <tr>\n",
       "      <th>1839</th>\n",
       "      <td>c99</td>\n",
       "      <td>9</td>\n",
       "      <td>5.326077</td>\n",
       "      <td>5.700499</td>\n",
       "      <td>[[-514.2015, -14.056551, 8.076202, 71.86446, -...</td>\n",
       "    </tr>\n",
       "    <tr>\n",
       "      <th>1840</th>\n",
       "      <td>c99</td>\n",
       "      <td>sil</td>\n",
       "      <td>5.677279</td>\n",
       "      <td>6.168435</td>\n",
       "      <td>[[-548.2642, 101.87691, 23.355255, 36.286713, ...</td>\n",
       "    </tr>\n",
       "  </tbody>\n",
       "</table>\n",
       "<p>1841 rows × 5 columns</p>\n",
       "</div>"
      ],
      "text/plain": [
       "      fid label     start       end  \\\n",
       "0      c0   sil  0.000000  1.715374   \n",
       "1      c0     7  1.715374  2.017234   \n",
       "2      c0  tram  2.017234  2.263946   \n",
       "3      c0     6  2.281361  2.499048   \n",
       "4      c0  muoi  2.499048  2.583220   \n",
       "...   ...   ...       ...       ...   \n",
       "1836  c99     0  4.519184  4.800726   \n",
       "1837  c99  tram  4.800726  5.096780   \n",
       "1838  c99  linh  5.096780  5.305760   \n",
       "1839  c99     9  5.326077  5.700499   \n",
       "1840  c99   sil  5.677279  6.168435   \n",
       "\n",
       "                                            mfcc_origin  \n",
       "0     [[-377.72638, 40.630905, -13.1483, -4.639365, ...  \n",
       "1     [[-357.71417, 59.718376, 9.188358, 21.0169, 8....  \n",
       "2     [[-347.2093, 65.41372, 6.2780967, 44.874367, -...  \n",
       "3     [[-247.0961, 53.51671, 33.677433, 68.47664, -4...  \n",
       "4     [[-301.981, 176.73502, -5.473352, 5.813934, 8....  \n",
       "...                                                 ...  \n",
       "1836  [[-498.15326, 75.88043, -6.5175834, -32.514927...  \n",
       "1837  [[-466.44724, -24.463057, -6.129795, 27.253609...  \n",
       "1838  [[-421.04462, 181.96613, -11.485994, 0.4892928...  \n",
       "1839  [[-514.2015, -14.056551, 8.076202, 71.86446, -...  \n",
       "1840  [[-548.2642, 101.87691, 23.355255, 36.286713, ...  \n",
       "\n",
       "[1841 rows x 5 columns]"
      ]
     },
     "execution_count": 1199,
     "metadata": {},
     "output_type": "execute_result"
    }
   ],
   "source": [
    "df"
   ]
  },
  {
   "cell_type": "code",
   "execution_count": null,
   "id": "e0c5d5f6-2651-4cdd-81bc-c237c22bdc66",
   "metadata": {
    "id": "e0c5d5f6-2651-4cdd-81bc-c237c22bdc66",
    "outputId": "b16bde39-7493-486f-cb7c-5146326d3b98"
   },
   "outputs": [
    {
     "name": "stdout",
     "output_type": "stream",
     "text": [
      "label:  nghin\n",
      "(frame, 3xband):  (13, 39)\n"
     ]
    },
    {
     "data": {
      "image/png": "[encoded data removed]",
      "text/plain": [
       "<Figure size 432x288 with 1 Axes>"
      ]
     },
     "metadata": {
      "needs_background": "light"
     },
     "output_type": "display_data"
    }
   ],
   "source": [
    "_i = 12\n",
    "print(\"label: \", df['label'].iloc[_i])\n",
    "_m = df['mfcc_origin'].iloc[_i]\n",
    "\n",
    "print('(frame, 3xband): ', _m.shape)\n",
    "\n",
    "librosa.display.specshow(_m, x_axis='time')\n",
    "plt.show()"
   ]
  },
  {
   "cell_type": "code",
   "execution_count": null,
   "id": "290ac3e8-2e3f-4a10-9194-5237249b4f58",
   "metadata": {
    "id": "290ac3e8-2e3f-4a10-9194-5237249b4f58",
    "outputId": "67b568b4-f125-4bd0-9ced-eee081a5c702"
   },
   "outputs": [
    {
     "data": {
      "text/plain": [
       "(39,)"
      ]
     },
     "execution_count": 1201,
     "metadata": {},
     "output_type": "execute_result"
    }
   ],
   "source": [
    "_m[0].shape"
   ]
  },
  {
   "cell_type": "markdown",
   "id": "84adf5ba-2532-422f-b5f1-dbc0407ed941",
   "metadata": {
    "id": "84adf5ba-2532-422f-b5f1-dbc0407ed941"
   },
   "source": [
    "# II. DTW for speech recognition\n",
    "Use DTW to recognize single voice commands (each word/voice uses about 2-3 samples)\n",
    "+ Normalize MFCC features.\n",
    "+ Reduce the number of states per MFCC feature according to the corresponding 'word'/'sound'.\n",
    "+ Generate 'Template Averaging' from 2-3 selected samples."
   ]
  },
  {
   "cell_type": "markdown",
   "id": "921f6b16-0c15-445e-8284-5a84b94c680b",
   "metadata": {
    "id": "921f6b16-0c15-445e-8284-5a84b94c680b"
   },
   "source": [
    "## 2.1  Normalization MFCC features.\n",
    "#### Function to normalize MFCC."
   ]
  },
  {
   "cell_type": "code",
   "execution_count": null,
   "id": "e0d25bd5-20bf-407c-a0ce-eef9a3434b01",
   "metadata": {
    "id": "e0d25bd5-20bf-407c-a0ce-eef9a3434b01"
   },
   "outputs": [],
   "source": [
    "def preprocess_mfcc(mfcc):\n",
    "    # distance normalization (39 dimensional data)\n",
    "    # return librosa.util.normalize(mfcc, axis=1)\n",
    "    return librosa.util.normalize(mfcc, norm=1)"
   ]
  },
  {
   "cell_type": "markdown",
   "id": "614d552a-378d-4300-8c9a-e2396cce66ab",
   "metadata": {
    "id": "614d552a-378d-4300-8c9a-e2396cce66ab"
   },
   "source": [
    "#### Normalize MFCC over dataframe"
   ]
  },
  {
   "cell_type": "code",
   "execution_count": null,
   "id": "d92390c0-2328-4854-9597-4fd7ca6d8215",
   "metadata": {
    "id": "d92390c0-2328-4854-9597-4fd7ca6d8215"
   },
   "outputs": [],
   "source": [
    "df['mfcc_norma'] = df['mfcc_origin'].apply(preprocess_mfcc)"
   ]
  },
  {
   "cell_type": "code",
   "execution_count": null,
   "id": "741fd4d9-1f6b-4a0f-abd4-4767b8611678",
   "metadata": {
    "id": "741fd4d9-1f6b-4a0f-abd4-4767b8611678",
    "outputId": "77344c10-f9c3-4e51-cb8d-5a73a9a9ca34"
   },
   "outputs": [
    {
     "data": {
      "text/html": [
       "<div>\n",
       "<style scoped>\n",
       "    .dataframe tbody tr th:only-of-type {\n",
       "        vertical-align: middle;\n",
       "    }\n",
       "\n",
       "    .dataframe tbody tr th {\n",
       "        vertical-align: top;\n",
       "    }\n",
       "\n",
       "    .dataframe thead th {\n",
       "        text-align: right;\n",
       "    }\n",
       "</style>\n",
       "<table border=\"1\" class=\"dataframe\">\n",
       "  <thead>\n",
       "    <tr style=\"text-align: right;\">\n",
       "      <th></th>\n",
       "      <th>fid</th>\n",
       "      <th>label</th>\n",
       "      <th>start</th>\n",
       "      <th>end</th>\n",
       "      <th>mfcc_origin</th>\n",
       "      <th>mfcc_norma</th>\n",
       "    </tr>\n",
       "  </thead>\n",
       "  <tbody>\n",
       "    <tr>\n",
       "      <th>0</th>\n",
       "      <td>c0</td>\n",
       "      <td>sil</td>\n",
       "      <td>0.000000</td>\n",
       "      <td>1.715374</td>\n",
       "      <td>[[-377.72638, 40.630905, -13.1483, -4.639365, ...</td>\n",
       "      <td>[[-0.014864602, 0.013141776, -0.02225916, -0.0...</td>\n",
       "    </tr>\n",
       "    <tr>\n",
       "      <th>1</th>\n",
       "      <td>c0</td>\n",
       "      <td>7</td>\n",
       "      <td>1.715374</td>\n",
       "      <td>2.017234</td>\n",
       "      <td>[[-357.71417, 59.718376, 9.188358, 21.0169, 8....</td>\n",
       "      <td>[[-0.15095396, 0.037287407, 0.013219514, 0.036...</td>\n",
       "    </tr>\n",
       "    <tr>\n",
       "      <th>2</th>\n",
       "      <td>c0</td>\n",
       "      <td>tram</td>\n",
       "      <td>2.017234</td>\n",
       "      <td>2.263946</td>\n",
       "      <td>[[-347.2093, 65.41372, 6.2780967, 44.874367, -...</td>\n",
       "      <td>[[-0.20857255, 0.056869056, 0.018152462, 0.172...</td>\n",
       "    </tr>\n",
       "  </tbody>\n",
       "</table>\n",
       "</div>"
      ],
      "text/plain": [
       "  fid label     start       end  \\\n",
       "0  c0   sil  0.000000  1.715374   \n",
       "1  c0     7  1.715374  2.017234   \n",
       "2  c0  tram  2.017234  2.263946   \n",
       "\n",
       "                                         mfcc_origin  \\\n",
       "0  [[-377.72638, 40.630905, -13.1483, -4.639365, ...   \n",
       "1  [[-357.71417, 59.718376, 9.188358, 21.0169, 8....   \n",
       "2  [[-347.2093, 65.41372, 6.2780967, 44.874367, -...   \n",
       "\n",
       "                                          mfcc_norma  \n",
       "0  [[-0.014864602, 0.013141776, -0.02225916, -0.0...  \n",
       "1  [[-0.15095396, 0.037287407, 0.013219514, 0.036...  \n",
       "2  [[-0.20857255, 0.056869056, 0.018152462, 0.172...  "
      ]
     },
     "execution_count": 1204,
     "metadata": {},
     "output_type": "execute_result"
    }
   ],
   "source": [
    "df.head(3)"
   ]
  },
  {
   "cell_type": "markdown",
   "id": "e1212008-edcb-4100-9739-7ffa97fa681e",
   "metadata": {
    "id": "e1212008-edcb-4100-9739-7ffa97fa681e"
   },
   "source": [
    "## 2.2 Reduce the number of states(frame) of MFCC.\n",
    "Shape of MFCC (frame, band)"
   ]
  },
  {
   "cell_type": "code",
   "execution_count": null,
   "id": "b3f987b7-400a-4616-a285-81631265bd57",
   "metadata": {
    "id": "b3f987b7-400a-4616-a285-81631265bd57",
    "outputId": "16b4ce43-4bee-4537-c0ff-aa8e368a7753"
   },
   "outputs": [
    {
     "data": {
      "text/plain": [
       "(13, 39)"
      ]
     },
     "execution_count": 1205,
     "metadata": {},
     "output_type": "execute_result"
    }
   ],
   "source": [
    "_m.shape"
   ]
  },
  {
   "cell_type": "code",
   "execution_count": null,
   "id": "ce249059-8b3d-4570-8282-704109d46f0f",
   "metadata": {
    "id": "ce249059-8b3d-4570-8282-704109d46f0f"
   },
   "outputs": [],
   "source": [
    "n_frames = []\n",
    "n_labels = list(df['label'])\n",
    "\n",
    "for i in range(len(df)):\n",
    "    f, b = df['mfcc_origin'].iloc[i].shape\n",
    "    n_frames.append(f)"
   ]
  },
  {
   "cell_type": "code",
   "execution_count": null,
   "id": "cc77c47c-90cb-4f1e-8a72-5c3dd59197cf",
   "metadata": {
    "id": "cc77c47c-90cb-4f1e-8a72-5c3dd59197cf",
    "outputId": "d095d7ae-e5f3-44b6-9a60-9e76b928466f"
   },
   "outputs": [
    {
     "data": {
      "text/plain": [
       "4"
      ]
     },
     "execution_count": 1207,
     "metadata": {},
     "output_type": "execute_result"
    }
   ],
   "source": [
    "min(n_frames)"
   ]
  },
  {
   "cell_type": "code",
   "execution_count": null,
   "id": "cc2b2ced-88c3-427a-9919-b8a186d15acd",
   "metadata": {
    "id": "cc2b2ced-88c3-427a-9919-b8a186d15acd",
    "outputId": "c22d6c95-585c-4013-e494-5382a6985bc8"
   },
   "outputs": [
    {
     "data": {
      "text/plain": [
       "74"
      ]
     },
     "execution_count": 1208,
     "metadata": {},
     "output_type": "execute_result"
    }
   ],
   "source": [
    "max(n_frames)"
   ]
  },
  {
   "cell_type": "code",
   "execution_count": null,
   "id": "bb153a2d-857a-4025-b389-29a6207918e8",
   "metadata": {
    "id": "bb153a2d-857a-4025-b389-29a6207918e8"
   },
   "outputs": [],
   "source": [
    "n_frames = np.array(n_frames)"
   ]
  },
  {
   "cell_type": "code",
   "execution_count": null,
   "id": "97cb0cea-531a-4083-bd7f-e5bbd4589888",
   "metadata": {
    "id": "97cb0cea-531a-4083-bd7f-e5bbd4589888",
    "outputId": "c2113c12-68c3-4195-89ad-499e4d2551cc"
   },
   "outputs": [
    {
     "data": {
      "text/plain": [
       "14.647474198804998"
      ]
     },
     "execution_count": 1210,
     "metadata": {},
     "output_type": "execute_result"
    }
   ],
   "source": [
    "np.mean(n_frames)"
   ]
  },
  {
   "cell_type": "code",
   "execution_count": null,
   "id": "9843ab7e-ec69-42ed-ad80-000172a48bbf",
   "metadata": {
    "id": "9843ab7e-ec69-42ed-ad80-000172a48bbf",
    "outputId": "b15b21e0-b357-4ced-ccfe-5d9a7729c141"
   },
   "outputs": [
    {
     "data": {
      "text/plain": [
       "7.866216060384427"
      ]
     },
     "execution_count": 1211,
     "metadata": {},
     "output_type": "execute_result"
    }
   ],
   "source": [
    "np.std(n_frames)"
   ]
  },
  {
   "cell_type": "code",
   "execution_count": null,
   "id": "afa92fe7-c141-4085-a636-132ef408a4ab",
   "metadata": {
    "id": "afa92fe7-c141-4085-a636-132ef408a4ab"
   },
   "outputs": [],
   "source": [
    "state_dict = {}\n",
    "\n",
    "from collections import Counter\n",
    "\n",
    "for l in set(labels):\n",
    "    if l == 'sil':\n",
    "        continue\n",
    "        \n",
    "    a = []\n",
    "    for i in range(len(df)):\n",
    "        if n_labels[i] == l:\n",
    "            # print(n_labels[i], \":\", n_frames[i])\n",
    "            a.append(n_frames[i])\n",
    "    \n",
    "    state_dict[l] = int(np.ceil(np.mean(a) - np.std(a)+1))\n",
    "    \n",
    "state_dict['sil'] = 38"
   ]
  },
  {
   "cell_type": "code",
   "execution_count": null,
   "id": "f1352734-22f4-44b8-8a46-b9ef324f1218",
   "metadata": {
    "id": "f1352734-22f4-44b8-8a46-b9ef324f1218"
   },
   "outputs": [],
   "source": []
  },
  {
   "cell_type": "code",
   "execution_count": null,
   "id": "37f6daae-6802-468b-abff-6f853d034dad",
   "metadata": {
    "id": "37f6daae-6802-468b-abff-6f853d034dad",
    "outputId": "3acfe501-3a13-43f3-cce9-4ea096294a83"
   },
   "outputs": [
    {
     "name": "stdout",
     "output_type": "stream",
     "text": [
      "[1.5 3.5]\n"
     ]
    },
    {
     "data": {
      "text/plain": [
       "array([0, 1, 1, 1, 0, 0])"
      ]
     },
     "execution_count": 1213,
     "metadata": {},
     "output_type": "execute_result"
    }
   ],
   "source": [
    "from sklearn.cluster import SpectralClustering\n",
    "from sklearn.cluster import KMeans\n",
    "import numpy as np\n",
    "\n",
    "X = np.array([[0, 7], [1, 1], [2, 1], [0, 1], [3, 5], [3, 6]])\n",
    "clustering = KMeans(n_clusters=2,\n",
    "#          assign_labels='discretize',\n",
    "         random_state=0).fit(X)\n",
    "clustering.labels_\n",
    "print(np.mean(X, axis=0))\n",
    "clustering.labels_"
   ]
  },
  {
   "cell_type": "code",
   "execution_count": null,
   "id": "a6b19381-1499-48a7-92fe-6fafc6acab2a",
   "metadata": {
    "id": "a6b19381-1499-48a7-92fe-6fafc6acab2a",
    "outputId": "71e26f32-fa13-4455-dcce-42edc824f0cb"
   },
   "outputs": [
    {
     "name": "stdout",
     "output_type": "stream",
     "text": [
      "(13, 39)\n"
     ]
    },
    {
     "data": {
      "text/plain": [
       "array([0, 8, 5, 1, 1, 1, 4, 4, 6, 2, 7, 3, 3])"
      ]
     },
     "execution_count": 1214,
     "metadata": {},
     "output_type": "execute_result"
    }
   ],
   "source": [
    "cluster = KMeans(n_clusters=9,\n",
    "#          assign_labels='discretize',\n",
    "         random_state=0)\n",
    "\n",
    "print(_m.shape)\n",
    "a = cluster.fit(_m)\n",
    "a.labels_"
   ]
  },
  {
   "cell_type": "code",
   "execution_count": null,
   "id": "26d01255-01ea-4b48-a0f3-478d4f9ca594",
   "metadata": {
    "id": "26d01255-01ea-4b48-a0f3-478d4f9ca594"
   },
   "outputs": [],
   "source": [
    "def reduce_mfcc_state(mfcc_norma, label, state_dict):\n",
    "    \n",
    "    if label == 'sil':\n",
    "        return mfcc_norma\n",
    "    \n",
    "    n_state, b = mfcc_norma.shape\n",
    "    if n_state > state_dict[label] :\n",
    "        n_state = state_dict[label]\n",
    "    \n",
    "    clustering = KMeans(n_clusters=n_state,\n",
    "#          assign_labels='discretize',\n",
    "         random_state=0).fit(mfcc_norma)\n",
    "    \n",
    "    state = list(clustering.labels_)\n",
    "    state.append(None)\n",
    "\n",
    "    # lấy ra mảng chỉ mục của các frame giống nhau ở cạnh nhau\n",
    "    idx_arr = []\n",
    "    idx_arr_of_states = []\n",
    "    for i in range(len(state)-1):\n",
    "        idx_arr.append(i)\n",
    "\n",
    "        if state[i] != state[i+1]:\n",
    "            idx_arr_of_states.append(idx_arr)\n",
    "            idx_arr = []\n",
    "    \n",
    "    # tính mean các frame giống nhau, là 1 frame mới\n",
    "    mfcc_feat = []\n",
    "    for arr in idx_arr_of_states:\n",
    "        \n",
    "        mfcc_i = np.mean([mfcc_norma[idx] for idx in arr], axis=0)\n",
    "\n",
    "        mfcc_feat.append(mfcc_i)\n",
    "        \n",
    "    return np.array(mfcc_feat)"
   ]
  },
  {
   "cell_type": "code",
   "execution_count": null,
   "id": "40930fca-ea55-48b9-8173-a9e6153c303c",
   "metadata": {
    "id": "40930fca-ea55-48b9-8173-a9e6153c303c",
    "outputId": "fcb98711-7840-476e-96b3-90e00b54f354"
   },
   "outputs": [
    {
     "name": "stdout",
     "output_type": "stream",
     "text": [
      "[-0.13854727  0.0467532   0.02496312  0.04407714  0.01930873  0.00074661\n",
      " -0.01994782  0.0090138  -0.03117407 -0.09906238 -0.04235395 -0.10171873\n",
      " -0.07411565  0.12865101  0.1431074  -0.02478405  0.03254979 -0.07939474\n",
      " -0.09265558  0.02043439 -0.00722884  0.03775441  0.0719833  -0.02088168\n",
      " -0.03066446  0.0908839   0.12395056  0.11259317 -0.21689773 -0.04490486\n",
      " -0.083265   -0.10880648  0.06153052  0.06079656 -0.1012429   0.02930665\n",
      "  0.10770303  0.15767772  0.19774522]\n",
      "[-0.13854727  0.0467532   0.02496312  0.04407714  0.01930873  0.00074661\n",
      " -0.01994782  0.0090138  -0.03117407 -0.09906238 -0.04235395 -0.10171873\n",
      " -0.07411565  0.12865101  0.1431074  -0.02478405  0.03254979 -0.07939474\n",
      " -0.09265558  0.02043439 -0.00722884  0.03775441  0.0719833  -0.02088168\n",
      " -0.03066446  0.0908839   0.12395056  0.11259317 -0.21689773 -0.04490486\n",
      " -0.083265   -0.10880648  0.06153052  0.06079656 -0.1012429   0.02930665\n",
      "  0.10770303  0.15767772  0.19774522]\n"
     ]
    }
   ],
   "source": [
    "a = df['mfcc_norma'].iloc[1]\n",
    "b = df['label'].iloc[1]\n",
    "\n",
    "print((a[0]+a[1])/2)\n",
    "                            \n",
    "r = reduce_mfcc_state(a, b, state_dict)\n",
    "\n",
    "print(r[0])"
   ]
  },
  {
   "cell_type": "code",
   "execution_count": null,
   "id": "94679b10-2956-4353-be18-b08c1f5850be",
   "metadata": {
    "id": "94679b10-2956-4353-be18-b08c1f5850be"
   },
   "outputs": [],
   "source": [
    "df['mfcc_feat'] = df.apply(lambda x: reduce_mfcc_state(x.mfcc_norma, x.label, state_dict),  axis=1)"
   ]
  },
  {
   "cell_type": "code",
   "execution_count": null,
   "id": "3fa855f9-e30e-4703-991a-28c4d82095bd",
   "metadata": {
    "id": "3fa855f9-e30e-4703-991a-28c4d82095bd",
    "outputId": "98b426a3-3a7a-43cf-cbdb-36103c7e002e"
   },
   "outputs": [
    {
     "data": {
      "text/html": [
       "<div>\n",
       "<style scoped>\n",
       "    .dataframe tbody tr th:only-of-type {\n",
       "        vertical-align: middle;\n",
       "    }\n",
       "\n",
       "    .dataframe tbody tr th {\n",
       "        vertical-align: top;\n",
       "    }\n",
       "\n",
       "    .dataframe thead th {\n",
       "        text-align: right;\n",
       "    }\n",
       "</style>\n",
       "<table border=\"1\" class=\"dataframe\">\n",
       "  <thead>\n",
       "    <tr style=\"text-align: right;\">\n",
       "      <th></th>\n",
       "      <th>fid</th>\n",
       "      <th>label</th>\n",
       "      <th>start</th>\n",
       "      <th>end</th>\n",
       "      <th>mfcc_origin</th>\n",
       "      <th>mfcc_norma</th>\n",
       "      <th>mfcc_feat</th>\n",
       "    </tr>\n",
       "  </thead>\n",
       "  <tbody>\n",
       "    <tr>\n",
       "      <th>0</th>\n",
       "      <td>c0</td>\n",
       "      <td>sil</td>\n",
       "      <td>0.000000</td>\n",
       "      <td>1.715374</td>\n",
       "      <td>[[-377.72638, 40.630905, -13.1483, -4.639365, ...</td>\n",
       "      <td>[[-0.014864602, 0.013141776, -0.02225916, -0.0...</td>\n",
       "      <td>[[-0.014864602, 0.013141776, -0.02225916, -0.0...</td>\n",
       "    </tr>\n",
       "    <tr>\n",
       "      <th>1</th>\n",
       "      <td>c0</td>\n",
       "      <td>7</td>\n",
       "      <td>1.715374</td>\n",
       "      <td>2.017234</td>\n",
       "      <td>[[-357.71417, 59.718376, 9.188358, 21.0169, 8....</td>\n",
       "      <td>[[-0.15095396, 0.037287407, 0.013219514, 0.036...</td>\n",
       "      <td>[[-0.13854727, 0.046753198, 0.024963124, 0.044...</td>\n",
       "    </tr>\n",
       "    <tr>\n",
       "      <th>2</th>\n",
       "      <td>c0</td>\n",
       "      <td>tram</td>\n",
       "      <td>2.017234</td>\n",
       "      <td>2.263946</td>\n",
       "      <td>[[-347.2093, 65.41372, 6.2780967, 44.874367, -...</td>\n",
       "      <td>[[-0.20857255, 0.056869056, 0.018152462, 0.172...</td>\n",
       "      <td>[[-0.20857255, 0.056869056, 0.018152462, 0.172...</td>\n",
       "    </tr>\n",
       "  </tbody>\n",
       "</table>\n",
       "</div>"
      ],
      "text/plain": [
       "  fid label     start       end  \\\n",
       "0  c0   sil  0.000000  1.715374   \n",
       "1  c0     7  1.715374  2.017234   \n",
       "2  c0  tram  2.017234  2.263946   \n",
       "\n",
       "                                         mfcc_origin  \\\n",
       "0  [[-377.72638, 40.630905, -13.1483, -4.639365, ...   \n",
       "1  [[-357.71417, 59.718376, 9.188358, 21.0169, 8....   \n",
       "2  [[-347.2093, 65.41372, 6.2780967, 44.874367, -...   \n",
       "\n",
       "                                          mfcc_norma  \\\n",
       "0  [[-0.014864602, 0.013141776, -0.02225916, -0.0...   \n",
       "1  [[-0.15095396, 0.037287407, 0.013219514, 0.036...   \n",
       "2  [[-0.20857255, 0.056869056, 0.018152462, 0.172...   \n",
       "\n",
       "                                           mfcc_feat  \n",
       "0  [[-0.014864602, 0.013141776, -0.02225916, -0.0...  \n",
       "1  [[-0.13854727, 0.046753198, 0.024963124, 0.044...  \n",
       "2  [[-0.20857255, 0.056869056, 0.018152462, 0.172...  "
      ]
     },
     "execution_count": 1219,
     "metadata": {},
     "output_type": "execute_result"
    }
   ],
   "source": [
    "df.head(3)"
   ]
  },
  {
   "cell_type": "code",
   "execution_count": null,
   "id": "51edad39-98ce-4c50-838e-0a53623e2b32",
   "metadata": {
    "id": "51edad39-98ce-4c50-838e-0a53623e2b32",
    "outputId": "74fc4e70-3d7f-4d52-cd1b-33eca2191c54"
   },
   "outputs": [
    {
     "data": {
      "text/plain": [
       "(74, 39)"
      ]
     },
     "execution_count": 1220,
     "metadata": {},
     "output_type": "execute_result"
    }
   ],
   "source": [
    "df['mfcc_feat'].iloc[0].shape"
   ]
  },
  {
   "cell_type": "code",
   "execution_count": null,
   "id": "2bab87ce-a103-45c3-b705-e3c2b4dc9515",
   "metadata": {
    "id": "2bab87ce-a103-45c3-b705-e3c2b4dc9515",
    "outputId": "fa6f155e-2972-48e4-96c2-2a9385c4fb1f"
   },
   "outputs": [
    {
     "data": {
      "text/plain": [
       "(11, 39)"
      ]
     },
     "execution_count": 1221,
     "metadata": {},
     "output_type": "execute_result"
    }
   ],
   "source": [
    "df['mfcc_feat'].iloc[100].shape"
   ]
  },
  {
   "cell_type": "markdown",
   "id": "5293089e-c71a-48b0-b9d1-cf02f68dbc9b",
   "metadata": {
    "id": "5293089e-c71a-48b0-b9d1-cf02f68dbc9b"
   },
   "source": [
    "## 2.3 Use DTW for speech recognition"
   ]
  },
  {
   "cell_type": "code",
   "execution_count": null,
   "id": "761333ba-3c80-4ef7-9223-fc2063f2fa1b",
   "metadata": {
    "id": "761333ba-3c80-4ef7-9223-fc2063f2fa1b"
   },
   "outputs": [],
   "source": [
    "from dtw import dtw\n",
    "from numpy.linalg import norm"
   ]
  },
  {
   "cell_type": "markdown",
   "id": "1e0adc2b-c4cd-43ec-8e3c-e842582c17b3",
   "metadata": {
    "id": "1e0adc2b-c4cd-43ec-8e3c-e842582c17b3"
   },
   "source": [
    "### 2.3.1 Example for using DTW to compare two sounds"
   ]
  },
  {
   "cell_type": "code",
   "execution_count": null,
   "id": "24d0f0be-43f8-441f-96f9-2b0669398aea",
   "metadata": {
    "id": "24d0f0be-43f8-441f-96f9-2b0669398aea"
   },
   "outputs": [],
   "source": [
    "# feature = 'mfcc_origin'\n",
    "# feature = 'mfcc_norma'\n",
    "feature = 'mfcc_feat'\n",
    "\n",
    "\n",
    "sound_6 = df[df['label'] == '6']\n",
    "s6_1 = sound_6.iloc[0][feature]\n",
    "s6_2 = sound_6.iloc[1][feature]\n",
    "s6_3 = sound_6.iloc[2][feature]\n",
    "\n",
    "sound_9 = df[df['label'] == '9']\n",
    "s9_1 = sound_9.iloc[0][feature]\n",
    "s9_2 = sound_9.iloc[1][feature]\n",
    "s9_3 = sound_9.iloc[2][feature]"
   ]
  },
  {
   "cell_type": "markdown",
   "id": "738e2688-39c0-465a-b722-6ea9a0167de5",
   "metadata": {
    "id": "738e2688-39c0-465a-b722-6ea9a0167de5"
   },
   "source": [
    "##### Distance of two sounds (6,6)"
   ]
  },
  {
   "cell_type": "code",
   "execution_count": null,
   "id": "5d98ec8f-2756-46b0-84c8-481868060f4c",
   "metadata": {
    "id": "5d98ec8f-2756-46b0-84c8-481868060f4c",
    "outputId": "05a75cb7-32f4-4ce1-ec60-64160bb82b80"
   },
   "outputs": [
    {
     "name": "stdout",
     "output_type": "stream",
     "text": [
      "Normalized distance between the two sounds: 45.33544087409973\n"
     ]
    },
    {
     "data": {
      "image/png": "[encoded data removed]",
      "text/plain": [
       "<Figure size 432x288 with 1 Axes>"
      ]
     },
     "metadata": {
      "needs_background": "light"
     },
     "output_type": "display_data"
    }
   ],
   "source": [
    "dist, cost, acc_cost, path = dtw(x=s6_1, y=s6_2, dist=lambda x, y: norm(x - y, ord=1))\n",
    "\n",
    "plt.imshow(cost.T, origin='lower', cmap=plt.cm.gray, interpolation='nearest')\n",
    "plt.plot(path[0], path[1], 'w')\n",
    "plt.xlim((-0.5, cost.shape[0]-0.5))\n",
    "plt.ylim((-0.5, cost.shape[1]-0.5))\n",
    "print('Normalized distance between the two sounds:', dist)"
   ]
  },
  {
   "cell_type": "code",
   "execution_count": null,
   "id": "903a6572-42fe-4eea-83b5-e27d40bccdbf",
   "metadata": {
    "id": "903a6572-42fe-4eea-83b5-e27d40bccdbf",
    "outputId": "476cc467-0737-43a6-b5eb-89d7a30bbee7"
   },
   "outputs": [
    {
     "name": "stdout",
     "output_type": "stream",
     "text": [
      "Normalized distance between the two sounds: 35.64189386367798\n"
     ]
    },
    {
     "data": {
      "image/png": "[encoded data removed]",
      "text/plain": [
       "<Figure size 432x288 with 1 Axes>"
      ]
     },
     "metadata": {
      "needs_background": "light"
     },
     "output_type": "display_data"
    }
   ],
   "source": [
    "dist, cost, acc_cost, path = dtw(x=s6_1, y=s6_3, dist=lambda x, y: norm(x - y, ord=1))\n",
    "\n",
    "plt.imshow(cost.T, origin='lower', cmap=plt.cm.gray, interpolation='nearest')\n",
    "plt.plot(path[0], path[1], 'w')\n",
    "plt.xlim((-0.5, cost.shape[0]-0.5))\n",
    "plt.ylim((-0.5, cost.shape[1]-0.5))\n",
    "print('Normalized distance between the two sounds:', dist)"
   ]
  },
  {
   "cell_type": "markdown",
   "id": "c9ed5d8a-d51f-453b-b4be-1f7a1553861c",
   "metadata": {
    "id": "c9ed5d8a-d51f-453b-b4be-1f7a1553861c"
   },
   "source": [
    "##### Distance of two sounds (6,9)"
   ]
  },
  {
   "cell_type": "code",
   "execution_count": null,
   "id": "53263bd2-e7d6-433c-963e-348994a171aa",
   "metadata": {
    "id": "53263bd2-e7d6-433c-963e-348994a171aa",
    "outputId": "e708d013-8ce4-4435-9987-7d54fa22a1ae"
   },
   "outputs": [
    {
     "name": "stdout",
     "output_type": "stream",
     "text": [
      "Normalized distance between the two sounds: 44.235538482666016\n"
     ]
    },
    {
     "data": {
      "image/png": "[encoded data removed]",
      "text/plain": [
       "<Figure size 432x288 with 1 Axes>"
      ]
     },
     "metadata": {
      "needs_background": "light"
     },
     "output_type": "display_data"
    }
   ],
   "source": [
    "dist, cost, acc_cost, path = dtw(x=s6_1, y=s9_1, dist=lambda x, y: norm(x - y, ord=1))\n",
    "\n",
    "plt.imshow(cost.T, origin='lower', cmap=plt.cm.gray, interpolation='nearest')\n",
    "plt.plot(path[0], path[1], 'w')\n",
    "plt.xlim((-0.5, cost.shape[0]-0.5))\n",
    "plt.ylim((-0.5, cost.shape[1]-0.5))\n",
    "print('Normalized distance between the two sounds:', dist)"
   ]
  },
  {
   "cell_type": "code",
   "execution_count": null,
   "id": "bde42d28-0d5a-4dc9-bb58-bd791d55cffe",
   "metadata": {
    "id": "bde42d28-0d5a-4dc9-bb58-bd791d55cffe",
    "outputId": "2b560cbb-9a0f-446c-c14e-9e6ed1420ed7"
   },
   "outputs": [
    {
     "name": "stdout",
     "output_type": "stream",
     "text": [
      "Normalized distance between the two sounds: 48.86393094062805\n"
     ]
    },
    {
     "data": {
      "image/png": "[encoded data removed]",
      "text/plain": [
       "<Figure size 432x288 with 1 Axes>"
      ]
     },
     "metadata": {
      "needs_background": "light"
     },
     "output_type": "display_data"
    }
   ],
   "source": [
    "dist, cost, acc_cost, path = dtw(x=s6_1, y=s9_3, dist=lambda x, y: norm(x - y, ord=1))\n",
    "\n",
    "plt.imshow(cost.T, origin='lower', cmap=plt.cm.gray, interpolation='nearest')\n",
    "plt.plot(path[0], path[1], 'w')\n",
    "plt.xlim((-0.5, cost.shape[0]-0.5))\n",
    "plt.ylim((-0.5, cost.shape[1]-0.5))\n",
    "print('Normalized distance between the two sounds:', dist)"
   ]
  },
  {
   "cell_type": "markdown",
   "id": "a2cc2ab1-a989-4137-b929-eb217b3159f8",
   "metadata": {
    "id": "a2cc2ab1-a989-4137-b929-eb217b3159f8"
   },
   "source": [
    "##### Distance of two sounds (9,9)"
   ]
  },
  {
   "cell_type": "code",
   "execution_count": null,
   "id": "a9c9f064-c10b-4cfb-a917-2271791d98ca",
   "metadata": {
    "id": "a9c9f064-c10b-4cfb-a917-2271791d98ca",
    "outputId": "8ce32955-b98c-4b3c-a4a3-24e737700586"
   },
   "outputs": [
    {
     "name": "stdout",
     "output_type": "stream",
     "text": [
      "Normalized distance between the two sounds: 37.66722130775452\n"
     ]
    },
    {
     "data": {
      "image/png": "[encoded data removed]",
      "text/plain": [
       "<Figure size 432x288 with 1 Axes>"
      ]
     },
     "metadata": {
      "needs_background": "light"
     },
     "output_type": "display_data"
    }
   ],
   "source": [
    "dist, cost, acc_cost, path = dtw(x=s9_1, y=s9_2, dist=lambda x, y: norm(x - y, ord=1))\n",
    "\n",
    "plt.imshow(cost.T, origin='lower', cmap=plt.cm.gray, interpolation='nearest')\n",
    "plt.plot(path[0], path[1], 'w')\n",
    "plt.xlim((-0.5, cost.shape[0]-0.5))\n",
    "plt.ylim((-0.5, cost.shape[1]-0.5))\n",
    "print('Normalized distance between the two sounds:', dist)"
   ]
  },
  {
   "cell_type": "code",
   "execution_count": null,
   "id": "a8a011e4-341f-4ab3-ade6-0d9b6ce93b8a",
   "metadata": {
    "id": "a8a011e4-341f-4ab3-ade6-0d9b6ce93b8a",
    "outputId": "02631826-89ca-42fc-e0db-da5bdd36d6a3"
   },
   "outputs": [
    {
     "name": "stdout",
     "output_type": "stream",
     "text": [
      "Normalized distance between the two sounds: 39.08504629135132\n"
     ]
    },
    {
     "data": {
      "image/png": "[encoded data removed]",
      "text/plain": [
       "<Figure size 432x288 with 1 Axes>"
      ]
     },
     "metadata": {
      "needs_background": "light"
     },
     "output_type": "display_data"
    }
   ],
   "source": [
    "dist, cost, acc_cost, path = dtw(x=s9_2, y=s9_3, dist=lambda x, y: norm(x - y, ord=1))\n",
    "\n",
    "plt.imshow(cost.T, origin='lower', cmap=plt.cm.gray, interpolation='nearest')\n",
    "plt.plot(path[0], path[1], 'w')\n",
    "plt.xlim((-0.5, cost.shape[0]-0.5))\n",
    "plt.ylim((-0.5, cost.shape[1]-0.5))\n",
    "print('Normalized distance between the two sounds:', dist)"
   ]
  },
  {
   "cell_type": "markdown",
   "id": "e9cd51d2-bd1f-4307-ba1d-52c413ef46bc",
   "metadata": {
    "id": "e9cd51d2-bd1f-4307-ba1d-52c413ef46bc"
   },
   "source": [
    "### 2.3.2 DTW use 1 template per label."
   ]
  },
  {
   "cell_type": "markdown",
   "id": "61012421-64f2-41e0-b015-fb1301adcd43",
   "metadata": {
    "id": "61012421-64f2-41e0-b015-fb1301adcd43"
   },
   "source": [
    "#### Function to speech recognition with DTW use 1 template"
   ]
  },
  {
   "cell_type": "code",
   "execution_count": null,
   "id": "a700e9d3-431b-49ee-aef7-385feb30382d",
   "metadata": {
    "id": "a700e9d3-431b-49ee-aef7-385feb30382d"
   },
   "outputs": [],
   "source": [
    "# return pred label, true label\n",
    "def predict_sound_use_dtw1(mfcc_example, true_label, mfccs_temp, labels_temp):\n",
    "    dists = []\n",
    "    for i in range(len(mfccs_temp)):\n",
    "        dist,_,_,_ = dtw(x=mfcc_example, y=mfccs_temp[i], dist=lambda x, y: norm(x - y, ord=1))\n",
    "        dists.append(dist)\n",
    "        \n",
    "    idx = dists.index(min(dists))\n",
    "    return labels_temp[idx], true_label"
   ]
  },
  {
   "cell_type": "markdown",
   "id": "a96337d1-6b19-4f35-bfdb-45499968ab2f",
   "metadata": {
    "id": "a96337d1-6b19-4f35-bfdb-45499968ab2f"
   },
   "source": [
    "#### List of mfcc templates, template label."
   ]
  },
  {
   "cell_type": "code",
   "execution_count": null,
   "id": "f83509a7-12a1-439f-9494-243b8882a965",
   "metadata": {
    "id": "f83509a7-12a1-439f-9494-243b8882a965"
   },
   "outputs": [],
   "source": [
    "mfccs_temp1 = []\n",
    "labels_temp1 = []\n",
    "\n",
    "# get the i-th sound of each label to make a template\n",
    "i_th = 10\n",
    "\n",
    "for l in labels:\n",
    "    \n",
    "    # data frame sound  with label 'l'\n",
    "    df_sl = df[df['label'] == l]\n",
    "    \n",
    "    \n",
    "    mfcc_i = df_sl.iloc[i_th][feature]\n",
    "    label_i = l\n",
    "    \n",
    "    mfccs_temp1.append(mfcc_i)\n",
    "    labels_temp1.append(label_i)"
   ]
  },
  {
   "cell_type": "code",
   "execution_count": null,
   "id": "a6f3223f-acd6-4ab4-aea8-27fc9475b489",
   "metadata": {
    "id": "a6f3223f-acd6-4ab4-aea8-27fc9475b489",
    "outputId": "1224f16d-7844-446c-b186-f34941ae0ee3"
   },
   "outputs": [
    {
     "data": {
      "text/plain": [
       "(20, 20)"
      ]
     },
     "execution_count": 1232,
     "metadata": {},
     "output_type": "execute_result"
    }
   ],
   "source": [
    "len(mfccs_temp1), len(labels_temp1)"
   ]
  },
  {
   "cell_type": "markdown",
   "id": "96670352-69d4-4910-9029-ee7e0258764f",
   "metadata": {
    "id": "96670352-69d4-4910-9029-ee7e0258764f"
   },
   "source": [
    "#### Test: (pred_label, true_label)"
   ]
  },
  {
   "cell_type": "code",
   "execution_count": null,
   "id": "2b441212-3786-4c87-b102-d6cb4426c005",
   "metadata": {
    "id": "2b441212-3786-4c87-b102-d6cb4426c005",
    "outputId": "e2c75075-6b6a-4802-b300-245a4ebf6dee"
   },
   "outputs": [
    {
     "data": {
      "text/plain": [
       "('tram', '6')"
      ]
     },
     "execution_count": 1233,
     "metadata": {},
     "output_type": "execute_result"
    }
   ],
   "source": [
    "predict_sound_use_dtw1(s6_1, '6', mfccs_temp1, labels_temp1)"
   ]
  },
  {
   "cell_type": "code",
   "execution_count": null,
   "id": "22f452d9-4128-4ff2-acaa-10fa43abb82d",
   "metadata": {
    "id": "22f452d9-4128-4ff2-acaa-10fa43abb82d",
    "outputId": "0febdf3f-f25d-48fe-83f5-e6e7f57131b9"
   },
   "outputs": [
    {
     "data": {
      "text/plain": [
       "('5', '6')"
      ]
     },
     "execution_count": 1234,
     "metadata": {},
     "output_type": "execute_result"
    }
   ],
   "source": [
    "predict_sound_use_dtw1(s6_2, '6', mfccs_temp1, labels_temp1)"
   ]
  },
  {
   "cell_type": "code",
   "execution_count": null,
   "id": "075c0e10-b093-4816-a61c-1af79c05807f",
   "metadata": {
    "id": "075c0e10-b093-4816-a61c-1af79c05807f",
    "outputId": "901a41be-67f3-4558-be71-764edcd74800"
   },
   "outputs": [
    {
     "data": {
      "text/plain": [
       "('tu', '6')"
      ]
     },
     "execution_count": 1235,
     "metadata": {},
     "output_type": "execute_result"
    }
   ],
   "source": [
    "predict_sound_use_dtw1(s6_3, '6', mfccs_temp1, labels_temp1)"
   ]
  },
  {
   "cell_type": "code",
   "execution_count": null,
   "id": "35bc56a8-f36c-4d6c-a52c-9b593a05de27",
   "metadata": {
    "id": "35bc56a8-f36c-4d6c-a52c-9b593a05de27",
    "outputId": "518a7494-963d-4c14-9208-c38cb5cefd11"
   },
   "outputs": [
    {
     "data": {
      "text/plain": [
       "('linh', '9')"
      ]
     },
     "execution_count": 1236,
     "metadata": {},
     "output_type": "execute_result"
    }
   ],
   "source": [
    "predict_sound_use_dtw1(s9_1, '9', mfccs_temp1, labels_temp1)"
   ]
  },
  {
   "cell_type": "code",
   "execution_count": null,
   "id": "df466ce0-03de-4a5c-a45f-800a819a1aef",
   "metadata": {
    "id": "df466ce0-03de-4a5c-a45f-800a819a1aef",
    "outputId": "64619d76-7607-4e26-faf1-f77200411986"
   },
   "outputs": [
    {
     "data": {
      "text/plain": [
       "('9', '9')"
      ]
     },
     "execution_count": 1237,
     "metadata": {},
     "output_type": "execute_result"
    }
   ],
   "source": [
    "predict_sound_use_dtw1(s9_2, '9', mfccs_temp1, labels_temp1)"
   ]
  },
  {
   "cell_type": "code",
   "execution_count": null,
   "id": "dde13bcd-1fb0-47a6-8223-80017ee84862",
   "metadata": {
    "id": "dde13bcd-1fb0-47a6-8223-80017ee84862",
    "outputId": "e8d7af81-c04b-4d8a-d914-7ca3c17521a5"
   },
   "outputs": [
    {
     "data": {
      "text/plain": [
       "('9', '9')"
      ]
     },
     "execution_count": 1238,
     "metadata": {},
     "output_type": "execute_result"
    }
   ],
   "source": [
    "predict_sound_use_dtw1(s9_3, '9', mfccs_temp1, labels_temp1)"
   ]
  },
  {
   "cell_type": "markdown",
   "id": "06b606a0-1961-46cb-bc00-9e17cd15697a",
   "metadata": {
    "id": "06b606a0-1961-46cb-bc00-9e17cd15697a"
   },
   "source": [
    "#### Predict over dataframe"
   ]
  },
  {
   "cell_type": "code",
   "execution_count": null,
   "id": "62dcc9ca-04d5-427a-887d-98e09730a5fc",
   "metadata": {
    "id": "62dcc9ca-04d5-427a-887d-98e09730a5fc"
   },
   "outputs": [],
   "source": [
    "pred_label = []\n",
    "true_label = []\n",
    "\n",
    "for i in range(len(df)):\n",
    "    x = df.iloc[i][feature]\n",
    "    y = df.iloc[i]['label']\n",
    "    pred, true = predict_sound_use_dtw1(x, y, mfccs_temp1, labels_temp1)\n",
    "#     print(i, \"th, (pred, true)\", (pred, true))\n",
    "    \n",
    "    pred_label.append(pred)\n",
    "    true_label.append(true)"
   ]
  },
  {
   "cell_type": "code",
   "execution_count": null,
   "id": "c8418e7b-5507-4f43-a5d4-5da277a80e0b",
   "metadata": {
    "id": "c8418e7b-5507-4f43-a5d4-5da277a80e0b",
    "outputId": "db248bbd-f7eb-44ce-a496-c596567a3ef3"
   },
   "outputs": [
    {
     "name": "stdout",
     "output_type": "stream",
     "text": [
      "['sil', '7', 'tram', '6', 'muoi', '9', 'trieu', '8', '3', '2', 'nghin', 'linh', '4', '5', 'tu', 'm1', '1', 'mot', 'lam', '0']\n",
      "\n",
      "Confusion matrix : \n",
      " [[171   0   0   0  38   0   0   0   0  12   0   2   0  23   3   0   0   0\n",
      "    1   0]\n",
      " [  0  65   0   0  15   0   0   0   0   0   0   2   0   2   0   1   0   0\n",
      "    0   0]\n",
      " [  0   0 147   0   0   0   0   1   0   0   0   0   0 143   1   0   0   0\n",
      "    0   0]\n",
      " [  0   1   3  51   0   0   0   0   0   2   0   0   0  23   2   0   0   0\n",
      "    0   3]\n",
      " [  0   0   0   0 230   0   0   0   0   0   0   3   0   1   0   3   0   0\n",
      "    0   0]\n",
      " [  0   0   0   0   3  59   0   0   1   0  10  15   0   0   0   0   0   0\n",
      "    0   0]\n",
      " [  0   0   0   0   0   0 100   0   0   0   0   0   0   0   0   0   0   0\n",
      "    0   0]\n",
      " [  0   0   0   0   1   0   0  78   3   0   0   0   0  13   4   0   0   1\n",
      "   13   0]\n",
      " [  0   5   0   0   5   0   0  10  48   8   0   0   0   8   2   1   0   2\n",
      "    2   0]\n",
      " [  0   1   0   0   6   0   0   0   0  78   0   0   0   5   0   0   0   0\n",
      "    0   0]\n",
      " [  0   0   0   0   0  24   0   0   0   0  17  30   0  29   0   0   0   0\n",
      "    0   0]\n",
      " [  0   0   0   0   6   0   0   0   0   0   0  27   0   0   0   0   0   0\n",
      "    0   0]\n",
      " [  0   0   0   0   3   0   0   0   0   0   0   2  29  13   4   0   3   9\n",
      "    0   0]\n",
      " [  0   0   0   0   1   0   0   0   0   0   0   2   0  51   0   1   0   3\n",
      "    3   0]\n",
      " [  1   0   0   0   0   0   0   0   0   0   0   0   0   0  17   0   0   0\n",
      "    0   0]\n",
      " [  0   1   0   0  19   0   0   0   0   0   0   0   0   0   0   5   0   0\n",
      "    0   0]\n",
      " [  0   0   0   0   0   0   0   0   0   0   0   0   2   1   1   0  18  12\n",
      "    0   0]\n",
      " [  0   0   0   0   2   0   0   0   0   0   0   0   3   1   0   0   1  22\n",
      "    0   0]\n",
      " [  0   0   0   0   1   0   0   0   0   0   0   0   0   4   0   0   0   0\n",
      "   19   0]\n",
      " [  0   0   0   0   0   1   0   0   0   0   0   0   0   1   0   0   0   0\n",
      "    0  21]]\n",
      "\n",
      "Classification report : \n",
      "               precision    recall  f1-score   support\n",
      "\n",
      "         sil       0.99      0.68      0.81       250\n",
      "           7       0.89      0.76      0.82        85\n",
      "        tram       0.98      0.50      0.67       292\n",
      "           6       1.00      0.60      0.75        85\n",
      "        muoi       0.70      0.97      0.81       237\n",
      "           9       0.70      0.67      0.69        88\n",
      "       trieu       1.00      1.00      1.00       100\n",
      "           8       0.88      0.69      0.77       113\n",
      "           3       0.92      0.53      0.67        91\n",
      "           2       0.78      0.87      0.82        90\n",
      "       nghin       0.63      0.17      0.27       100\n",
      "        linh       0.33      0.82      0.47        33\n",
      "           4       0.85      0.46      0.60        63\n",
      "           5       0.16      0.84      0.27        61\n",
      "          tu       0.50      0.94      0.65        18\n",
      "          m1       0.45      0.20      0.28        25\n",
      "           1       0.82      0.53      0.64        34\n",
      "         mot       0.45      0.76      0.56        29\n",
      "         lam       0.50      0.79      0.61        24\n",
      "           0       0.88      0.91      0.89        23\n",
      "\n",
      "    accuracy                           0.68      1841\n",
      "   macro avg       0.72      0.68      0.65      1841\n",
      "weighted avg       0.82      0.68      0.70      1841\n",
      "\n"
     ]
    }
   ],
   "source": [
    "# confusion matrix in sklearn\n",
    "from sklearn.metrics import confusion_matrix\n",
    "from sklearn.metrics import classification_report\n",
    "\n",
    "print(labels)\n",
    "\n",
    "# actual values\n",
    "actual = true_label\n",
    "# predicted values\n",
    "predicted = pred_label\n",
    "\n",
    "# confusion matrix\n",
    "matrix = confusion_matrix(actual,predicted, labels=labels)\n",
    "print('\\nConfusion matrix : \\n',matrix)\n",
    "\n",
    "# classification report for precision, recall f1-score and accuracy\n",
    "matrix = classification_report(actual,predicted,labels=labels)\n",
    "print('\\nClassification report : \\n',matrix)"
   ]
  },
  {
   "cell_type": "markdown",
   "id": "b11b7c81-b660-457f-8ea0-8ea466d4dcdf",
   "metadata": {
    "id": "b11b7c81-b660-457f-8ea0-8ea466d4dcdf"
   },
   "source": [
    "### 2.3.2 DTW use Template Averaging per Label (2-3 template for each label)"
   ]
  },
  {
   "cell_type": "markdown",
   "id": "31fadee8-7731-446a-a229-59cf30f2074d",
   "metadata": {
    "id": "31fadee8-7731-446a-a229-59cf30f2074d"
   },
   "source": [
    "#### Function to speech recognition with DTW use 3 template"
   ]
  },
  {
   "cell_type": "markdown",
   "id": "460b859a-943b-46a2-badc-9276f7cc2da2",
   "metadata": {
    "id": "460b859a-943b-46a2-badc-9276f7cc2da2"
   },
   "source": [
    "#### List of mfcc templates, template label."
   ]
  },
  {
   "cell_type": "code",
   "execution_count": null,
   "id": "8b73d53d-79e5-47cf-9de3-cfe6ef1e4287",
   "metadata": {
    "id": "8b73d53d-79e5-47cf-9de3-cfe6ef1e4287"
   },
   "outputs": [],
   "source": [
    "n_temp = 3\n",
    "\n",
    "mfccs_temp3 = []\n",
    "labels_temp3 = []\n",
    "\n",
    "# get the i-th sound of each label to make a template <= 10\n",
    "i_th = 5\n",
    "\n",
    "for l in labels:\n",
    "    \n",
    "#     if l == 'sil':\n",
    "#         continue\n",
    "        \n",
    "    # data frame sound  with label 'l'\n",
    "    df_sl = df[df['label'] == l]\n",
    "    \n",
    "    val_mfcc_feat = [ x for x in df_sl['mfcc_feat'] if x.shape[0] == state_dict[l] ]\n",
    "    \n",
    "    mfcc_i1 = val_mfcc_feat[i_th]\n",
    "    mfcc_i2 = val_mfcc_feat[i_th+1]\n",
    "    mfcc_i3 = val_mfcc_feat[i_th+2]\n",
    "    \n",
    "    \n",
    "    mfcc_l = np.mean([mfcc_i1, mfcc_i2, mfcc_i3], axis=0)\n",
    "    label_i = l\n",
    "    \n",
    "    mfccs_temp3.append(mfcc_l)\n",
    "    labels_temp3.append(label_i)"
   ]
  },
  {
   "cell_type": "code",
   "execution_count": null,
   "id": "04577347-c763-49a0-b73f-2d7708122df7",
   "metadata": {
    "id": "04577347-c763-49a0-b73f-2d7708122df7",
    "outputId": "a6cb4b0a-7f4e-4663-eb35-7f285a3c53dd"
   },
   "outputs": [
    {
     "name": "stdout",
     "output_type": "stream",
     "text": [
      "['sil', '7', 'tram', '6', 'muoi', '9', 'trieu', '8', '3', '2', 'nghin', 'linh', '4', '5', 'tu', 'm1', '1', 'mot', 'lam', '0']\n"
     ]
    }
   ],
   "source": [
    "print(labels_temp3)"
   ]
  },
  {
   "cell_type": "code",
   "execution_count": null,
   "id": "b7169eab-e5a6-4f20-ad3f-1a86c5ded61b",
   "metadata": {
    "id": "b7169eab-e5a6-4f20-ad3f-1a86c5ded61b",
    "outputId": "42578632-b836-4276-ad31-ace0c47da257"
   },
   "outputs": [
    {
     "data": {
      "text/plain": [
       "20"
      ]
     },
     "execution_count": 1243,
     "metadata": {},
     "output_type": "execute_result"
    }
   ],
   "source": [
    "len(labels_temp3)"
   ]
  },
  {
   "cell_type": "code",
   "execution_count": null,
   "id": "d9c08e9d-7678-4543-bf0a-6f47ea264051",
   "metadata": {
    "id": "d9c08e9d-7678-4543-bf0a-6f47ea264051",
    "outputId": "5e879ccc-ac83-479d-cde1-739193c93412"
   },
   "outputs": [
    {
     "data": {
      "text/plain": [
       "20"
      ]
     },
     "execution_count": 1244,
     "metadata": {},
     "output_type": "execute_result"
    }
   ],
   "source": [
    "len(mfccs_temp3)"
   ]
  },
  {
   "cell_type": "code",
   "execution_count": null,
   "id": "44af9ec6-0edc-4c13-a40c-fccda06e45af",
   "metadata": {
    "id": "44af9ec6-0edc-4c13-a40c-fccda06e45af"
   },
   "outputs": [],
   "source": [
    "# return pred label, true label\n",
    "def predict_sound_use_dtw3(mfcc_example, true_label, mfccs_temp, labels_temp):\n",
    "    dists = []\n",
    "    for i in range(len(mfccs_temp)):\n",
    "        dist,_,_,_ = dtw(x=mfcc_example, y=mfccs_temp[i], dist=lambda x, y: norm(x - y, ord=1))\n",
    "        dists.append(dist)\n",
    "        \n",
    "    idx = dists.index(min(dists))\n",
    "    return labels_temp[idx], true_label"
   ]
  },
  {
   "cell_type": "code",
   "execution_count": null,
   "id": "b83ec03f-9f7c-49cf-a985-5bb3717963e6",
   "metadata": {
    "id": "b83ec03f-9f7c-49cf-a985-5bb3717963e6",
    "outputId": "37334cf9-9e9b-42f8-9721-3b702fe29db1"
   },
   "outputs": [
    {
     "data": {
      "text/plain": [
       "'mfcc_feat'"
      ]
     },
     "execution_count": 1246,
     "metadata": {},
     "output_type": "execute_result"
    }
   ],
   "source": [
    "feature"
   ]
  },
  {
   "cell_type": "code",
   "execution_count": null,
   "id": "fb68765b-dfd0-4572-9b29-89c18d5e0291",
   "metadata": {
    "id": "fb68765b-dfd0-4572-9b29-89c18d5e0291"
   },
   "outputs": [],
   "source": [
    "pred_label = []\n",
    "true_label = []\n",
    "\n",
    "for i in range(len(df)):\n",
    "    x = df.iloc[i][feature]\n",
    "    y = df.iloc[i]['label']\n",
    "    pred, true = predict_sound_use_dtw3(x, y, mfccs_temp3, labels_temp3)\n",
    "#     print(i, \"th, (pred, true)\", (pred, true))\n",
    "    \n",
    "    pred_label.append(pred)\n",
    "    true_label.append(true)"
   ]
  },
  {
   "cell_type": "code",
   "execution_count": null,
   "id": "318b2065-36c4-4486-8f21-26c1c60dfc73",
   "metadata": {
    "id": "318b2065-36c4-4486-8f21-26c1c60dfc73",
    "outputId": "608a8a51-73fb-4c71-c8c2-dba250cd03a4"
   },
   "outputs": [
    {
     "name": "stdout",
     "output_type": "stream",
     "text": [
      "['sil', '7', 'tram', '6', 'muoi', '9', 'trieu', '8', '3', '2', 'nghin', 'linh', '4', '5', 'tu', 'm1', '1', 'mot', 'lam', '0']\n",
      "\n",
      "Confusion matrix : \n",
      " [[164   0   1   5  32   0   0   1   0  19  14   1   2   2   0   8   0   1\n",
      "    0   0]\n",
      " [  0  73   0   0   8   0   0   0   0   0   0   0   0   1   0   3   0   0\n",
      "    0   0]\n",
      " [  0   0 257   0   0   2   0   9   0   0   0   0   0  19   1   2   1   0\n",
      "    1   0]\n",
      " [  0   0   0  74   0   1   0   4   0   2   0   0   0   1   1   1   1   0\n",
      "    0   0]\n",
      " [  0   0   0   0 210   0   0   0   0   0   0   0   3   0   0  24   0   0\n",
      "    0   0]\n",
      " [  0   0   0   0   2  72   0   0   0   0   3   2   0   0   0   8   0   1\n",
      "    0   0]\n",
      " [  0   0   0   0   0   0 100   0   0   0   0   0   0   0   0   0   0   0\n",
      "    0   0]\n",
      " [  0   0   0   0   1   0   0 100   1   0   0   0   0  10   0   1   0   0\n",
      "    0   0]\n",
      " [  0   1   0   0   2   0   0   7  75   2   0   0   0   0   0   4   0   0\n",
      "    0   0]\n",
      " [  0   1   0   0   6   1   0   1   1  77   0   1   0   1   0   1   0   0\n",
      "    0   0]\n",
      " [  0   0   0   0   1  13   0   0   0   0  81   3   0   1   0   0   0   1\n",
      "    0   0]\n",
      " [  0   0   0   0   6   0   0   0   0   0   0  26   0   0   0   0   0   1\n",
      "    0   0]\n",
      " [  0   0   0   0   3   0   0   0   0   0   0   0  49   0   1   0   0  10\n",
      "    0   0]\n",
      " [  0   0   0   0   5   0   0   0   0   0   0   0   0  50   0   0   1   5\n",
      "    0   0]\n",
      " [  1   0   0   0   0   0   0   0   0   0   0   0   0   0  17   0   0   0\n",
      "    0   0]\n",
      " [  0   0   0   0   7   0   0   0   0   0   0   0   0   0   0  18   0   0\n",
      "    0   0]\n",
      " [  0   0   0   0   2   0   0   0   0   0   0   0   4   0   0   0  14  14\n",
      "    0   0]\n",
      " [  0   0   0   0   1   0   0   0   0   0   0   0   5   0   0   0   0  23\n",
      "    0   0]\n",
      " [  0   0   0   0   1   0   0   0   0   0   0   0   0   3   0   0   0   0\n",
      "   20   0]\n",
      " [  0   0   0   0   0   1   0   0   0   1   0   0   0   0   1   0   0   0\n",
      "    0  20]]\n",
      "\n",
      "Classification report : \n",
      "               precision    recall  f1-score   support\n",
      "\n",
      "         sil       0.99      0.66      0.79       250\n",
      "           7       0.97      0.86      0.91        85\n",
      "        tram       1.00      0.88      0.93       292\n",
      "           6       0.94      0.87      0.90        85\n",
      "        muoi       0.73      0.89      0.80       237\n",
      "           9       0.80      0.82      0.81        88\n",
      "       trieu       1.00      1.00      1.00       100\n",
      "           8       0.82      0.88      0.85       113\n",
      "           3       0.97      0.82      0.89        91\n",
      "           2       0.76      0.86      0.81        90\n",
      "       nghin       0.83      0.81      0.82       100\n",
      "        linh       0.79      0.79      0.79        33\n",
      "           4       0.78      0.78      0.78        63\n",
      "           5       0.57      0.82      0.67        61\n",
      "          tu       0.81      0.94      0.87        18\n",
      "          m1       0.26      0.72      0.38        25\n",
      "           1       0.82      0.41      0.55        34\n",
      "         mot       0.41      0.79      0.54        29\n",
      "         lam       0.95      0.83      0.89        24\n",
      "           0       1.00      0.87      0.93        23\n",
      "\n",
      "    accuracy                           0.83      1841\n",
      "   macro avg       0.81      0.82      0.80      1841\n",
      "weighted avg       0.87      0.83      0.83      1841\n",
      "\n"
     ]
    }
   ],
   "source": [
    "# confusion matrix in sklearn\n",
    "from sklearn.metrics import confusion_matrix\n",
    "from sklearn.metrics import classification_report\n",
    "\n",
    "print(labels)\n",
    "\n",
    "# actual values\n",
    "actual = true_label\n",
    "# predicted values\n",
    "predicted = pred_label\n",
    "\n",
    "# confusion matrix\n",
    "matrix = confusion_matrix(actual,predicted, labels=labels)\n",
    "print('\\nConfusion matrix : \\n',matrix)\n",
    "\n",
    "# classification report for precision, recall f1-score and accuracy\n",
    "matrix = classification_report(actual,predicted,labels=labels)\n",
    "print('\\nClassification report : \\n',matrix)"
   ]
  },
  {
   "cell_type": "code",
   "execution_count": null,
   "id": "c920d753-2ba8-44d5-a458-50f6ad9a28b6",
   "metadata": {
    "id": "c920d753-2ba8-44d5-a458-50f6ad9a28b6"
   },
   "outputs": [],
   "source": []
  }
 ],
 "metadata": {
  "colab": {
   "collapsed_sections": [
    "614d552a-378d-4300-8c9a-e2396cce66ab",
    "96670352-69d4-4910-9029-ee7e0258764f",
    "06b606a0-1961-46cb-bc00-9e17cd15697a",
    "31fadee8-7731-446a-a229-59cf30f2074d"
   ],
   "name": "dtw-for-speech-recognition.ipynb",
   "provenance": []
  },
  "kernelspec": {
   "display_name": "Python 3",
   "language": "python",
   "name": "python3"
  },
  "language_info": {
   "codemirror_mode": {
    "name": "ipython",
    "version": 3
   },
   "file_extension": ".py",
   "mimetype": "text/x-python",
   "name": "python",
   "nbconvert_exporter": "python",
   "pygments_lexer": "ipython3",
   "version": "3.8.8"
  }
 },
 "nbformat": 4,
 "nbformat_minor": 5
}
