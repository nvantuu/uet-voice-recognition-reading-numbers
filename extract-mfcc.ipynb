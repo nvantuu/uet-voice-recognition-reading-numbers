{
 "cells": [
  {
   "cell_type": "markdown",
   "id": "801b4fab-df5c-4d24-a5e7-96bb2a67370e",
   "metadata": {},
   "source": [
    "# I. Declare dependencies"
   ]
  },
  {
   "cell_type": "code",
   "execution_count": 1,
   "id": "e91940b0-5a31-4e0f-9284-dd16932264a5",
   "metadata": {},
   "outputs": [
    {
     "name": "stdout",
     "output_type": "stream",
     "text": [
      "Requirement already satisfied: dtw in c:\\users\\tunv\\anaconda3\\lib\\site-packages (1.4.0)\n",
      "Requirement already satisfied: scipy in c:\\users\\tunv\\anaconda3\\lib\\site-packages (from dtw) (1.6.2)\n",
      "Requirement already satisfied: numpy in c:\\users\\tunv\\anaconda3\\lib\\site-packages (from dtw) (1.20.1)\n",
      "Requirement already satisfied: hmmlearn in c:\\users\\tunv\\anaconda3\\lib\\site-packages (0.2.7)\n",
      "Requirement already satisfied: numpy>=1.10 in c:\\users\\tunv\\anaconda3\\lib\\site-packages (from hmmlearn) (1.20.1)\n",
      "Requirement already satisfied: scipy>=0.19 in c:\\users\\tunv\\anaconda3\\lib\\site-packages (from hmmlearn) (1.6.2)\n",
      "Requirement already satisfied: scikit-learn>=0.16 in c:\\users\\tunv\\anaconda3\\lib\\site-packages (from hmmlearn) (0.24.1)\n",
      "Requirement already satisfied: joblib>=0.11 in c:\\users\\tunv\\anaconda3\\lib\\site-packages (from scikit-learn>=0.16->hmmlearn) (1.0.1)\n",
      "Requirement already satisfied: threadpoolctl>=2.0.0 in c:\\users\\tunv\\anaconda3\\lib\\site-packages (from scikit-learn>=0.16->hmmlearn) (2.1.0)\n"
     ]
    }
   ],
   "source": [
    "!pip install dtw\n",
    "!pip install hmmlearn"
   ]
  },
  {
   "cell_type": "code",
   "execution_count": 2,
   "id": "2c1243cc-acc5-4363-8209-0f3b6a9005bc",
   "metadata": {},
   "outputs": [],
   "source": [
    "import matplotlib.pyplot as plt\n",
    "import matplotlib.style as ms\n",
    "ms.use('seaborn-muted')\n",
    "%matplotlib inline\n",
    "\n",
    "import glob\n",
    "import os\n",
    "\n",
    "import numpy as np\n",
    "import pandas as pd\n",
    "\n",
    "import librosa\n",
    "import librosa.display\n",
    "import IPython.display"
   ]
  },
  {
   "cell_type": "code",
   "execution_count": 3,
   "id": "6c7aa5b2-b1b0-468d-a964-66ec68a352d1",
   "metadata": {},
   "outputs": [],
   "source": [
    "class Config:\n",
    "    n_mfcc = 13\n",
    "    hop_length = 220\n",
    "    n_fft = 512\n",
    "    n_frame = 12\n",
    "    \n",
    "c = Config()"
   ]
  },
  {
   "cell_type": "markdown",
   "id": "235480f0-fe39-49e6-910c-290ea2ea952e",
   "metadata": {},
   "source": [
    "# II. Extrac MFCC features\n",
    "\n",
    "Use the collected data (in groups), extracting the  MFCC  feature (39 features, including  MFCC, delta, deltadelta) of each voice command / number."
   ]
  },
  {
   "cell_type": "markdown",
   "id": "a5568149-53c6-4642-a4db-fb25aa38a02f",
   "metadata": {},
   "source": [
    "#### 2.1 Set path, create dataframe\n",
    "\n",
    "Create list contain all paths to my group member"
   ]
  },
  {
   "cell_type": "code",
   "execution_count": 4,
   "id": "b9690d67-3f18-4320-bb94-fe2c6074bff4",
   "metadata": {},
   "outputs": [],
   "source": [
    "my_group_member = ['./19021372_BuiVanToan', './19021381_NguyenVanTu', \n",
    "            './19021384_NguyenManhTuan', './19021396_PhamThanhVinh']"
   ]
  },
  {
   "cell_type": "markdown",
   "id": "11aff0be-0638-44f5-b073-2becd71bdc07",
   "metadata": {},
   "source": [
    "Create dataframe"
   ]
  },
  {
   "cell_type": "code",
   "execution_count": 5,
   "id": "a8885522-3178-4afb-83f9-19b54f9e7e1f",
   "metadata": {},
   "outputs": [],
   "source": [
    "# audio file data, hand-labeled with audacity software, \n",
    "# has a .wav audio file name with the same name as its label .txt file\n",
    "df = pd.DataFrame(columns=[\"fid\", \"label\", \"start\", \"end\"])"
   ]
  },
  {
   "cell_type": "code",
   "execution_count": 6,
   "id": "63a2a488-c946-4306-8d26-9ea74533761e",
   "metadata": {},
   "outputs": [
    {
     "data": {
      "text/html": [
       "<div>\n",
       "<style scoped>\n",
       "    .dataframe tbody tr th:only-of-type {\n",
       "        vertical-align: middle;\n",
       "    }\n",
       "\n",
       "    .dataframe tbody tr th {\n",
       "        vertical-align: top;\n",
       "    }\n",
       "\n",
       "    .dataframe thead th {\n",
       "        text-align: right;\n",
       "    }\n",
       "</style>\n",
       "<table border=\"1\" class=\"dataframe\">\n",
       "  <thead>\n",
       "    <tr style=\"text-align: right;\">\n",
       "      <th></th>\n",
       "      <th>fid</th>\n",
       "      <th>label</th>\n",
       "      <th>start</th>\n",
       "      <th>end</th>\n",
       "    </tr>\n",
       "  </thead>\n",
       "  <tbody>\n",
       "  </tbody>\n",
       "</table>\n",
       "</div>"
      ],
      "text/plain": [
       "Empty DataFrame\n",
       "Columns: [fid, label, start, end]\n",
       "Index: []"
      ]
     },
     "execution_count": 6,
     "metadata": {},
     "output_type": "execute_result"
    }
   ],
   "source": [
    "df"
   ]
  },
  {
   "cell_type": "code",
   "execution_count": 7,
   "id": "ed5a11df-9b06-4627-9f12-7082783e058a",
   "metadata": {},
   "outputs": [],
   "source": [
    "for mname in my_group_member:\n",
    "    df_mi = pd.DataFrame(columns=[\"fid\", \"label\", \"start\", \"end\"])\n",
    "    data_dir = mname\n",
    "    label_fnames = glob.glob(os.path.join(data_dir, \"*.txt\"))\n",
    "    label_fnames = [os.path.basename(label_fname) for label_fname in label_fnames]\n",
    "\n",
    "    for fname in label_fnames:\n",
    "        df_i = pd.read_csv(os.path.join(data_dir, fname), sep=\"\\t\", header=None)\n",
    "        df_i = df_i.rename(columns={2:\"label\", 0:\"start\", 1:\"end\"})\n",
    "        df_i[\"fid\"] = [mname + '\\\\' + fname.split('.')[0]]*len(df_i)\n",
    "        df_mi = pd.concat([df_mi, df_i], axis=0, ignore_index=True)\n",
    "\n",
    "    df = pd.concat([df, df_mi], axis=0, ignore_index=True)"
   ]
  },
  {
   "cell_type": "code",
   "execution_count": 8,
   "id": "97f0bfd1-ab32-430f-903a-3a2ab4cd7959",
   "metadata": {},
   "outputs": [
    {
     "data": {
      "text/html": [
       "<div>\n",
       "<style scoped>\n",
       "    .dataframe tbody tr th:only-of-type {\n",
       "        vertical-align: middle;\n",
       "    }\n",
       "\n",
       "    .dataframe tbody tr th {\n",
       "        vertical-align: top;\n",
       "    }\n",
       "\n",
       "    .dataframe thead th {\n",
       "        text-align: right;\n",
       "    }\n",
       "</style>\n",
       "<table border=\"1\" class=\"dataframe\">\n",
       "  <thead>\n",
       "    <tr style=\"text-align: right;\">\n",
       "      <th></th>\n",
       "      <th>fid</th>\n",
       "      <th>label</th>\n",
       "      <th>start</th>\n",
       "      <th>end</th>\n",
       "    </tr>\n",
       "  </thead>\n",
       "  <tbody>\n",
       "    <tr>\n",
       "      <th>0</th>\n",
       "      <td>./19021372_BuiVanToan\\1-10</td>\n",
       "      <td>sil</td>\n",
       "      <td>0.000000</td>\n",
       "      <td>2.426485</td>\n",
       "    </tr>\n",
       "    <tr>\n",
       "      <th>1</th>\n",
       "      <td>./19021372_BuiVanToan\\1-10</td>\n",
       "      <td>7</td>\n",
       "      <td>2.426485</td>\n",
       "      <td>2.821224</td>\n",
       "    </tr>\n",
       "    <tr>\n",
       "      <th>2</th>\n",
       "      <td>./19021372_BuiVanToan\\1-10</td>\n",
       "      <td>tram</td>\n",
       "      <td>3.181134</td>\n",
       "      <td>3.657143</td>\n",
       "    </tr>\n",
       "  </tbody>\n",
       "</table>\n",
       "</div>"
      ],
      "text/plain": [
       "                          fid label     start       end\n",
       "0  ./19021372_BuiVanToan\\1-10   sil  0.000000  2.426485\n",
       "1  ./19021372_BuiVanToan\\1-10     7  2.426485  2.821224\n",
       "2  ./19021372_BuiVanToan\\1-10  tram  3.181134  3.657143"
      ]
     },
     "execution_count": 8,
     "metadata": {},
     "output_type": "execute_result"
    }
   ],
   "source": [
    "df.head(3)"
   ]
  },
  {
   "cell_type": "code",
   "execution_count": 9,
   "id": "4ac03a17-c2c7-4557-b333-8dfbbf3ae396",
   "metadata": {},
   "outputs": [
    {
     "data": {
      "text/html": [
       "<div>\n",
       "<style scoped>\n",
       "    .dataframe tbody tr th:only-of-type {\n",
       "        vertical-align: middle;\n",
       "    }\n",
       "\n",
       "    .dataframe tbody tr th {\n",
       "        vertical-align: top;\n",
       "    }\n",
       "\n",
       "    .dataframe thead th {\n",
       "        text-align: right;\n",
       "    }\n",
       "</style>\n",
       "<table border=\"1\" class=\"dataframe\">\n",
       "  <thead>\n",
       "    <tr style=\"text-align: right;\">\n",
       "      <th></th>\n",
       "      <th>fid</th>\n",
       "      <th>label</th>\n",
       "      <th>start</th>\n",
       "      <th>end</th>\n",
       "    </tr>\n",
       "  </thead>\n",
       "  <tbody>\n",
       "    <tr>\n",
       "      <th>7315</th>\n",
       "      <td>./19021396_PhamThanhVinh\\c99</td>\n",
       "      <td>linh</td>\n",
       "      <td>4.461009</td>\n",
       "      <td>4.685341</td>\n",
       "    </tr>\n",
       "    <tr>\n",
       "      <th>7316</th>\n",
       "      <td>./19021396_PhamThanhVinh\\c99</td>\n",
       "      <td>8</td>\n",
       "      <td>4.685341</td>\n",
       "      <td>4.989792</td>\n",
       "    </tr>\n",
       "    <tr>\n",
       "      <th>7317</th>\n",
       "      <td>./19021396_PhamThanhVinh\\c99</td>\n",
       "      <td>sli</td>\n",
       "      <td>4.989792</td>\n",
       "      <td>5.400000</td>\n",
       "    </tr>\n",
       "  </tbody>\n",
       "</table>\n",
       "</div>"
      ],
      "text/plain": [
       "                               fid label     start       end\n",
       "7315  ./19021396_PhamThanhVinh\\c99  linh  4.461009  4.685341\n",
       "7316  ./19021396_PhamThanhVinh\\c99     8  4.685341  4.989792\n",
       "7317  ./19021396_PhamThanhVinh\\c99   sli  4.989792  5.400000"
      ]
     },
     "execution_count": 9,
     "metadata": {},
     "output_type": "execute_result"
    }
   ],
   "source": [
    "df.tail(3)"
   ]
  },
  {
   "cell_type": "code",
   "execution_count": 10,
   "id": "4db503d6-49ec-417d-9892-bf5f91840145",
   "metadata": {},
   "outputs": [
    {
     "name": "stdout",
     "output_type": "stream",
     "text": [
      "<class 'pandas.core.frame.DataFrame'>\n",
      "RangeIndex: 7318 entries, 0 to 7317\n",
      "Data columns (total 4 columns):\n",
      " #   Column  Non-Null Count  Dtype  \n",
      "---  ------  --------------  -----  \n",
      " 0   fid     7318 non-null   object \n",
      " 1   label   7318 non-null   object \n",
      " 2   start   7318 non-null   float64\n",
      " 3   end     7318 non-null   float64\n",
      "dtypes: float64(2), object(2)\n",
      "memory usage: 228.8+ KB\n"
     ]
    }
   ],
   "source": [
    "df.info()"
   ]
  },
  {
   "cell_type": "markdown",
   "id": "796d7b6e-2434-4a95-90d5-0c52defdb2f6",
   "metadata": {},
   "source": [
    "Check unique label in dataframe, there are 20"
   ]
  },
  {
   "cell_type": "code",
   "execution_count": 11,
   "id": "8572ba2a-8ff5-4471-b355-5e42a534fee3",
   "metadata": {},
   "outputs": [
    {
     "name": "stdout",
     "output_type": "stream",
     "text": [
      "23 False\n",
      "['sil', '7', 'tram', '6', 'muoi', '9', 'trieu', '8', '3', '2', 'nghin', 'linh', '4', '5', 'tu', 'mot', 'm1', 'lam', '1', '0', 'lnh', 'trsm', 'sli']\n"
     ]
    }
   ],
   "source": [
    "labels = list(df['label'].unique())\n",
    "print(len(labels), len(labels)== 20 )\n",
    "print(labels)"
   ]
  },
  {
   "cell_type": "markdown",
   "id": "2f9da372-f5b8-4983-9fa4-4dff28f56274",
   "metadata": {},
   "source": [
    "Correct the wrong label name"
   ]
  },
  {
   "cell_type": "code",
   "execution_count": 12,
   "id": "dd93d7c4-f817-4b07-af28-9ed7be85d251",
   "metadata": {},
   "outputs": [],
   "source": [
    "df['label'].replace('lnh', 'linh', inplace=True)\n",
    "df['label'].replace('trsm', 'tram', inplace=True)\n",
    "df['label'].replace('sli', 'sil', inplace=True)"
   ]
  },
  {
   "cell_type": "code",
   "execution_count": 13,
   "id": "23bed816-6f83-4f62-9488-99e6a7cf98a4",
   "metadata": {},
   "outputs": [
    {
     "name": "stdout",
     "output_type": "stream",
     "text": [
      "20 True\n",
      "['sil', '7', 'tram', '6', 'muoi', '9', 'trieu', '8', '3', '2', 'nghin', 'linh', '4', '5', 'tu', 'mot', 'm1', 'lam', '1', '0']\n"
     ]
    }
   ],
   "source": [
    "labels = list(df['label'].unique())\n",
    "print(len(labels), len(labels)== 20 )\n",
    "print(labels)"
   ]
  },
  {
   "cell_type": "markdown",
   "id": "127a385c-eb3e-4df1-b163-20ad405dd317",
   "metadata": {},
   "source": [
    "#### 2.2 Func to calculate mfcc for each 'word'/'sound'"
   ]
  },
  {
   "cell_type": "code",
   "execution_count": 14,
   "id": "bdaa86d6-362e-4417-bccc-aeea65e0698e",
   "metadata": {},
   "outputs": [],
   "source": [
    "def get_mfcc_features(x, sound, sr, hop_length):\n",
    "    # start sample, end sample, and calculate mfcc in the interval (s, e)\n",
    "    s, e = int(np.floor(x.loc[\"start\"]*sr)), int(np.ceil(x.loc[\"end\"]*sr))\n",
    "    mfcc = librosa.feature.mfcc(y=sound[s:e], sr=sr, n_mfcc=c.n_mfcc, n_fft=c.n_fft, hop_length=hop_length)\n",
    "\n",
    "    delta = librosa.feature.delta(mfcc, width=3)\n",
    "    delta_2 = librosa.feature.delta(mfcc, order=2, width=3)\n",
    "    features = np.concatenate((mfcc, delta, delta_2))\n",
    "    \n",
    "    # The 'features' calculated array is of the form (39, 74), whose mfcc features are vectors of length 39\n",
    "    # we will transpose the matrix\n",
    "    return features.T"
   ]
  },
  {
   "cell_type": "markdown",
   "id": "f6cfd147-34d5-457c-97e8-af4f71bf19eb",
   "metadata": {},
   "source": [
    "#### 2.3 Calculate MFCC over dataframe"
   ]
  },
  {
   "cell_type": "code",
   "execution_count": 15,
   "id": "841058ec-331d-4dd1-9c8b-9a03a98eafc9",
   "metadata": {},
   "outputs": [],
   "source": [
    "# Get unique file names (fids)\n",
    "fids = df['fid'].unique()"
   ]
  },
  {
   "cell_type": "code",
   "execution_count": 16,
   "id": "1304fd71-b763-44f6-8fa1-dd99c8557927",
   "metadata": {},
   "outputs": [],
   "source": [
    "for fid in fids:\n",
    "    sound_file_path = os.path.join(fid+\".wav\")\n",
    "    # optimize calculation speed by read files only once\n",
    "    sound, sr = librosa.load(sound_file_path)\n",
    "    dfi = df[df[\"fid\"] == fid]\n",
    "    \n",
    "    # store mfcc in \n",
    "    # 'apply' function is used dataframe along data vertical axis\n",
    "    df.loc[df[\"fid\"] == fid, \"mfcc_origin\"] = dfi.apply(get_mfcc_features, args=(sound, sr, c.hop_length), axis=1)"
   ]
  },
  {
   "cell_type": "code",
   "execution_count": 17,
   "id": "69965885-6966-4dd4-a674-db9ae8cde402",
   "metadata": {},
   "outputs": [
    {
     "data": {
      "text/html": [
       "<div>\n",
       "<style scoped>\n",
       "    .dataframe tbody tr th:only-of-type {\n",
       "        vertical-align: middle;\n",
       "    }\n",
       "\n",
       "    .dataframe tbody tr th {\n",
       "        vertical-align: top;\n",
       "    }\n",
       "\n",
       "    .dataframe thead th {\n",
       "        text-align: right;\n",
       "    }\n",
       "</style>\n",
       "<table border=\"1\" class=\"dataframe\">\n",
       "  <thead>\n",
       "    <tr style=\"text-align: right;\">\n",
       "      <th></th>\n",
       "      <th>fid</th>\n",
       "      <th>label</th>\n",
       "      <th>start</th>\n",
       "      <th>end</th>\n",
       "      <th>mfcc_origin</th>\n",
       "    </tr>\n",
       "  </thead>\n",
       "  <tbody>\n",
       "    <tr>\n",
       "      <th>0</th>\n",
       "      <td>./19021372_BuiVanToan\\1-10</td>\n",
       "      <td>sil</td>\n",
       "      <td>0.000000</td>\n",
       "      <td>2.426485</td>\n",
       "      <td>[[-296.9526, 123.99669, -0.2854234, 9.288038, ...</td>\n",
       "    </tr>\n",
       "    <tr>\n",
       "      <th>1</th>\n",
       "      <td>./19021372_BuiVanToan\\1-10</td>\n",
       "      <td>7</td>\n",
       "      <td>2.426485</td>\n",
       "      <td>2.821224</td>\n",
       "      <td>[[-378.6088, 114.13159, 6.1494083, 7.1754503, ...</td>\n",
       "    </tr>\n",
       "    <tr>\n",
       "      <th>2</th>\n",
       "      <td>./19021372_BuiVanToan\\1-10</td>\n",
       "      <td>tram</td>\n",
       "      <td>3.181134</td>\n",
       "      <td>3.657143</td>\n",
       "      <td>[[-488.46213, 128.77538, -14.592409, 19.957142...</td>\n",
       "    </tr>\n",
       "  </tbody>\n",
       "</table>\n",
       "</div>"
      ],
      "text/plain": [
       "                          fid label     start       end  \\\n",
       "0  ./19021372_BuiVanToan\\1-10   sil  0.000000  2.426485   \n",
       "1  ./19021372_BuiVanToan\\1-10     7  2.426485  2.821224   \n",
       "2  ./19021372_BuiVanToan\\1-10  tram  3.181134  3.657143   \n",
       "\n",
       "                                         mfcc_origin  \n",
       "0  [[-296.9526, 123.99669, -0.2854234, 9.288038, ...  \n",
       "1  [[-378.6088, 114.13159, 6.1494083, 7.1754503, ...  \n",
       "2  [[-488.46213, 128.77538, -14.592409, 19.957142...  "
      ]
     },
     "execution_count": 17,
     "metadata": {},
     "output_type": "execute_result"
    }
   ],
   "source": [
    "df.head(3)"
   ]
  },
  {
   "cell_type": "markdown",
   "id": "95e50279-2c61-4bcc-b594-167764816d11",
   "metadata": {},
   "source": [
    "#### 2.4 Draw some MFCCs corresponding to it's label"
   ]
  },
  {
   "cell_type": "code",
   "execution_count": 18,
   "id": "08ed0baa-5ae9-4bcb-9a7a-6002bd83c798",
   "metadata": {},
   "outputs": [
    {
     "name": "stdout",
     "output_type": "stream",
     "text": [
      "label:  sil\n",
      "(frame, 3xband):  (244, 39)\n"
     ]
    },
    {
     "data": {
      "image/png": "[encoded data removed]",
      "text/plain": [
       "<Figure size 432x288 with 1 Axes>"
      ]
     },
     "metadata": {
      "needs_background": "light"
     },
     "output_type": "display_data"
    }
   ],
   "source": [
    "i_th = 0\n",
    "print(\"label: \", df['label'].iloc[i_th])\n",
    "m = df['mfcc_origin'].iloc[i_th]\n",
    "\n",
    "print('(frame, 3xband): ', m.shape)\n",
    "\n",
    "librosa.display.specshow(m, x_axis='time')\n",
    "plt.show()"
   ]
  },
  {
   "cell_type": "code",
   "execution_count": 19,
   "id": "e9311e3a-8b76-45c1-a37c-39b142f0920c",
   "metadata": {},
   "outputs": [
    {
     "name": "stdout",
     "output_type": "stream",
     "text": [
      "label:  nghin\n",
      "(frame, 3xband):  (51, 39)\n"
     ]
    },
    {
     "data": {
      "image/png": "[encoded data removed]",
      "text/plain": [
       "<Figure size 432x288 with 1 Axes>"
      ]
     },
     "metadata": {
      "needs_background": "light"
     },
     "output_type": "display_data"
    }
   ],
   "source": [
    "i_th = 12\n",
    "print(\"label: \", df['label'].iloc[i_th])\n",
    "m = df['mfcc_origin'].iloc[i_th]\n",
    "\n",
    "print('(frame, 3xband): ', m.shape)\n",
    "\n",
    "librosa.display.specshow(m, x_axis='time')\n",
    "plt.show()"
   ]
  },
  {
   "cell_type": "code",
   "execution_count": null,
   "id": "ddabb489-3972-4ec2-b3c6-798cea45dc01",
   "metadata": {},
   "outputs": [],
   "source": []
  },
  {
   "cell_type": "code",
   "execution_count": null,
   "id": "04a78d00-94ce-428e-ae0b-5ad733e18343",
   "metadata": {},
   "outputs": [],
   "source": []
  },
  {
   "cell_type": "code",
   "execution_count": null,
   "id": "0eab9dd2-2464-463f-9b4c-f9865e917250",
   "metadata": {},
   "outputs": [],
   "source": []
  }
 ],
 "metadata": {
  "kernelspec": {
   "display_name": "Python 3",
   "language": "python",
   "name": "python3"
  },
  "language_info": {
   "codemirror_mode": {
    "name": "ipython",
    "version": 3
   },
   "file_extension": ".py",
   "mimetype": "text/x-python",
   "name": "python",
   "nbconvert_exporter": "python",
   "pygments_lexer": "ipython3",
   "version": "3.8.8"
  }
 },
 "nbformat": 4,
 "nbformat_minor": 5
}
