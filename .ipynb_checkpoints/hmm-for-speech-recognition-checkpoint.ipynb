{
 "cells": [
  {
   "cell_type": "markdown",
   "id": "801b4fab-df5c-4d24-a5e7-96bb2a67370e",
   "metadata": {},
   "source": [
    "# I. Declare dependencies"
   ]
  },
  {
   "cell_type": "code",
   "execution_count": 98,
   "id": "e91940b0-5a31-4e0f-9284-dd16932264a5",
   "metadata": {},
   "outputs": [
    {
     "name": "stdout",
     "output_type": "stream",
     "text": [
      "Requirement already satisfied: dtw in c:\\users\\tunv\\anaconda3\\lib\\site-packages (1.4.0)\n",
      "Requirement already satisfied: scipy in c:\\users\\tunv\\anaconda3\\lib\\site-packages (from dtw) (1.6.2)\n",
      "Requirement already satisfied: numpy in c:\\users\\tunv\\anaconda3\\lib\\site-packages (from dtw) (1.20.1)\n",
      "Requirement already satisfied: hmmlearn in c:\\users\\tunv\\anaconda3\\lib\\site-packages (0.2.7)\n",
      "Requirement already satisfied: scikit-learn>=0.16 in c:\\users\\tunv\\anaconda3\\lib\\site-packages (from hmmlearn) (0.24.1)\n",
      "Requirement already satisfied: numpy>=1.10 in c:\\users\\tunv\\anaconda3\\lib\\site-packages (from hmmlearn) (1.20.1)\n",
      "Requirement already satisfied: scipy>=0.19 in c:\\users\\tunv\\anaconda3\\lib\\site-packages (from hmmlearn) (1.6.2)\n",
      "Requirement already satisfied: joblib>=0.11 in c:\\users\\tunv\\anaconda3\\lib\\site-packages (from scikit-learn>=0.16->hmmlearn) (1.0.1)\n",
      "Requirement already satisfied: threadpoolctl>=2.0.0 in c:\\users\\tunv\\anaconda3\\lib\\site-packages (from scikit-learn>=0.16->hmmlearn) (2.1.0)\n"
     ]
    }
   ],
   "source": [
    "!pip install dtw\n",
    "!pip install hmmlearn"
   ]
  },
  {
   "cell_type": "code",
   "execution_count": 99,
   "id": "2c1243cc-acc5-4363-8209-0f3b6a9005bc",
   "metadata": {},
   "outputs": [],
   "source": [
    "import matplotlib.pyplot as plt\n",
    "import matplotlib.style as ms\n",
    "ms.use('seaborn-muted')\n",
    "%matplotlib inline\n",
    "\n",
    "import glob\n",
    "import os\n",
    "\n",
    "import numpy as np\n",
    "import pandas as pd\n",
    "\n",
    "import librosa\n",
    "import librosa.display\n",
    "import IPython.display"
   ]
  },
  {
   "cell_type": "code",
   "execution_count": 100,
   "id": "6c7aa5b2-b1b0-468d-a964-66ec68a352d1",
   "metadata": {},
   "outputs": [],
   "source": [
    "class Config:\n",
    "    n_mfcc = 13\n",
    "    hop_length = 220\n",
    "    n_frame = 12\n",
    "    sr = 22050\n",
    "    n_fft = 512\n",
    "    \n",
    "c = Config()"
   ]
  },
  {
   "cell_type": "markdown",
   "id": "235480f0-fe39-49e6-910c-290ea2ea952e",
   "metadata": {},
   "source": [
    "# II. Extrac MFCC features / Segmantal k-means\n",
    "\n",
    "Use the collected data (in groups), extracting the  MFCC  feature (39 features, including  MFCC, delta, deltadelta) of each voice command / number."
   ]
  },
  {
   "cell_type": "markdown",
   "id": "a5568149-53c6-4642-a4db-fb25aa38a02f",
   "metadata": {},
   "source": [
    "#### 2.1 Set path, create dataframe\n",
    "\n",
    "Create list contain all paths to my group member"
   ]
  },
  {
   "cell_type": "code",
   "execution_count": 101,
   "id": "b9690d67-3f18-4320-bb94-fe2c6074bff4",
   "metadata": {},
   "outputs": [],
   "source": [
    "all_member = ['./19021372_BuiVanToan', './19021381_NguyenVanTu', './19020093_HoangHuuBach', './19021217_DinhVietAnh'\n",
    "            './19021384_NguyenManhTuan', './19021396_PhamThanhVinh', './19021347_BuiThuPhuong', './19021354_HoangMinhQuang']"
   ]
  },
  {
   "cell_type": "markdown",
   "id": "11aff0be-0638-44f5-b073-2becd71bdc07",
   "metadata": {},
   "source": [
    "Create dataframe"
   ]
  },
  {
   "cell_type": "code",
   "execution_count": 102,
   "id": "a8885522-3178-4afb-83f9-19b54f9e7e1f",
   "metadata": {},
   "outputs": [],
   "source": [
    "# audio file data, hand-labeled with audacity software, \n",
    "# has a .wav audio file name with the same name as its label .txt file\n",
    "df = pd.DataFrame(columns=[\"fid\", \"label\", \"start\", \"end\"])"
   ]
  },
  {
   "cell_type": "code",
   "execution_count": 103,
   "id": "63a2a488-c946-4306-8d26-9ea74533761e",
   "metadata": {},
   "outputs": [
    {
     "data": {
      "text/html": [
       "<div>\n",
       "<style scoped>\n",
       "    .dataframe tbody tr th:only-of-type {\n",
       "        vertical-align: middle;\n",
       "    }\n",
       "\n",
       "    .dataframe tbody tr th {\n",
       "        vertical-align: top;\n",
       "    }\n",
       "\n",
       "    .dataframe thead th {\n",
       "        text-align: right;\n",
       "    }\n",
       "</style>\n",
       "<table border=\"1\" class=\"dataframe\">\n",
       "  <thead>\n",
       "    <tr style=\"text-align: right;\">\n",
       "      <th></th>\n",
       "      <th>fid</th>\n",
       "      <th>label</th>\n",
       "      <th>start</th>\n",
       "      <th>end</th>\n",
       "    </tr>\n",
       "  </thead>\n",
       "  <tbody>\n",
       "  </tbody>\n",
       "</table>\n",
       "</div>"
      ],
      "text/plain": [
       "Empty DataFrame\n",
       "Columns: [fid, label, start, end]\n",
       "Index: []"
      ]
     },
     "execution_count": 103,
     "metadata": {},
     "output_type": "execute_result"
    }
   ],
   "source": [
    "df"
   ]
  },
  {
   "cell_type": "code",
   "execution_count": 104,
   "id": "ed5a11df-9b06-4627-9f12-7082783e058a",
   "metadata": {},
   "outputs": [],
   "source": [
    "for mname in all_member:\n",
    "    df_mi = pd.DataFrame(columns=[\"fid\", \"label\", \"start\", \"end\"])\n",
    "    data_dir = mname\n",
    "    label_fnames = glob.glob(os.path.join(data_dir, \"*.txt\"))\n",
    "    label_fnames = [os.path.basename(label_fname) for label_fname in label_fnames]\n",
    "\n",
    "    for fname in label_fnames:\n",
    "        df_i = pd.read_csv(os.path.join(data_dir, fname), sep=\"\\t\", header=None)\n",
    "        df_i = df_i.rename(columns={2:\"label\", 0:\"start\", 1:\"end\"})\n",
    "        df_i[\"fid\"] = [mname + '\\\\' + fname.split('.')[0]]*len(df_i)\n",
    "        df_mi = pd.concat([df_mi, df_i], axis=0, ignore_index=True)\n",
    "\n",
    "    df = pd.concat([df, df_mi], axis=0, ignore_index=True)"
   ]
  },
  {
   "cell_type": "code",
   "execution_count": 105,
   "id": "97f0bfd1-ab32-430f-903a-3a2ab4cd7959",
   "metadata": {},
   "outputs": [
    {
     "data": {
      "text/html": [
       "<div>\n",
       "<style scoped>\n",
       "    .dataframe tbody tr th:only-of-type {\n",
       "        vertical-align: middle;\n",
       "    }\n",
       "\n",
       "    .dataframe tbody tr th {\n",
       "        vertical-align: top;\n",
       "    }\n",
       "\n",
       "    .dataframe thead th {\n",
       "        text-align: right;\n",
       "    }\n",
       "</style>\n",
       "<table border=\"1\" class=\"dataframe\">\n",
       "  <thead>\n",
       "    <tr style=\"text-align: right;\">\n",
       "      <th></th>\n",
       "      <th>fid</th>\n",
       "      <th>label</th>\n",
       "      <th>start</th>\n",
       "      <th>end</th>\n",
       "    </tr>\n",
       "  </thead>\n",
       "  <tbody>\n",
       "    <tr>\n",
       "      <th>0</th>\n",
       "      <td>./19021372_BuiVanToan\\1-10</td>\n",
       "      <td>sil</td>\n",
       "      <td>0.000000</td>\n",
       "      <td>2.426485</td>\n",
       "    </tr>\n",
       "    <tr>\n",
       "      <th>1</th>\n",
       "      <td>./19021372_BuiVanToan\\1-10</td>\n",
       "      <td>7</td>\n",
       "      <td>2.426485</td>\n",
       "      <td>2.821224</td>\n",
       "    </tr>\n",
       "    <tr>\n",
       "      <th>2</th>\n",
       "      <td>./19021372_BuiVanToan\\1-10</td>\n",
       "      <td>tram</td>\n",
       "      <td>3.181134</td>\n",
       "      <td>3.657143</td>\n",
       "    </tr>\n",
       "  </tbody>\n",
       "</table>\n",
       "</div>"
      ],
      "text/plain": [
       "                          fid label     start       end\n",
       "0  ./19021372_BuiVanToan\\1-10   sil  0.000000  2.426485\n",
       "1  ./19021372_BuiVanToan\\1-10     7  2.426485  2.821224\n",
       "2  ./19021372_BuiVanToan\\1-10  tram  3.181134  3.657143"
      ]
     },
     "execution_count": 105,
     "metadata": {},
     "output_type": "execute_result"
    }
   ],
   "source": [
    "df.head(3)"
   ]
  },
  {
   "cell_type": "markdown",
   "id": "796d7b6e-2434-4a95-90d5-0c52defdb2f6",
   "metadata": {},
   "source": [
    "Check unique label in dataframe, there are 20"
   ]
  },
  {
   "cell_type": "code",
   "execution_count": 106,
   "id": "8572ba2a-8ff5-4471-b355-5e42a534fee3",
   "metadata": {},
   "outputs": [
    {
     "name": "stdout",
     "output_type": "stream",
     "text": [
      "30 False\n",
      "['sil', '7', 'tram', '6', 'muoi', '9', 'trieu', '8', '3', '2', 'nghin', 'linh', '4', '5', 'tu', 'mot', 'm1', 'lam', '1', '0', 'tram ', '3   ', '9  ', 'nghin ', 'sli', ' tram', 'nam', nan, 'ngin', '8\\\\']\n"
     ]
    }
   ],
   "source": [
    "labels = list(df['label'].unique())\n",
    "print(len(labels), len(labels)== 20 )\n",
    "print(labels)"
   ]
  },
  {
   "cell_type": "markdown",
   "id": "2f9da372-f5b8-4983-9fa4-4dff28f56274",
   "metadata": {},
   "source": [
    "Correct the wrong label name"
   ]
  },
  {
   "cell_type": "code",
   "execution_count": 107,
   "id": "dd93d7c4-f817-4b07-af28-9ed7be85d251",
   "metadata": {},
   "outputs": [],
   "source": [
    "df['label'].replace('lnh', 'linh', inplace=True)\n",
    "df['label'].replace('trsm', 'tram', inplace=True)\n",
    "df['label'].replace('sli', 'sil', inplace=True)\n",
    "df['label'].replace('tram ', 'tram', inplace=True)\n",
    "df['label'].replace('3   ', '3', inplace=True)\n",
    "df['label'].replace('9  ', '9', inplace=True)\n",
    "df['label'].replace(' tram', 'tram', inplace=True)\n",
    "df['label'].replace('nam', '5', inplace=True)\n",
    "df['label'].replace('ngin', 'nghin', inplace=True)\n",
    "df['label'].replace('nghin ', 'nghin', inplace=True)\n",
    "df['label'].replace('8\\\\', '8', inplace=True)\n",
    "\n",
    "df.dropna(subset = [\"label\"], inplace=True)"
   ]
  },
  {
   "cell_type": "code",
   "execution_count": 108,
   "id": "23bed816-6f83-4f62-9488-99e6a7cf98a4",
   "metadata": {},
   "outputs": [
    {
     "name": "stdout",
     "output_type": "stream",
     "text": [
      "20 True\n",
      "['sil', '7', 'tram', '6', 'muoi', '9', 'trieu', '8', '3', '2', 'nghin', 'linh', '4', '5', 'tu', 'mot', 'm1', 'lam', '1', '0']\n"
     ]
    }
   ],
   "source": [
    "labels = list(df['label'].unique())\n",
    "print(len(labels), len(labels)== 20 )\n",
    "print(labels)"
   ]
  },
  {
   "cell_type": "markdown",
   "id": "127a385c-eb3e-4df1-b163-20ad405dd317",
   "metadata": {},
   "source": [
    "#### 2.2 Func to calculate mfcc for each 'word'/'sound'"
   ]
  },
  {
   "cell_type": "code",
   "execution_count": 109,
   "id": "2fe1bbd9-b439-4cf1-8f9d-8f051052629e",
   "metadata": {},
   "outputs": [],
   "source": [
    "# Get unique file names (fids)\n",
    "fids = df['fid'].unique()"
   ]
  },
  {
   "cell_type": "code",
   "execution_count": 110,
   "id": "bdaa86d6-362e-4417-bccc-aeea65e0698e",
   "metadata": {},
   "outputs": [],
   "source": [
    "def get_mfcc_features(x, sound, sr, hop_length):\n",
    "#   print(sound.shape)\n",
    "    # start sample, end sample, and calculate mfcc in the interval (s, e)\n",
    "    s, e = int(np.floor(x.loc[\"start\"]*sr)), int(np.ceil(x.loc[\"end\"]*sr))\n",
    "#     if e - s < 1024 + 512:\n",
    "#         print(e-s)\n",
    "#     # print(e - s)\n",
    "    mfcc = librosa.feature.mfcc(y=sound[s:e], sr=sr, n_mfcc=c.n_mfcc, hop_length=hop_length, n_fft=512)\n",
    "\n",
    "    delta = librosa.feature.delta(mfcc, width=3)\n",
    "    delta_2 = librosa.feature.delta(mfcc, order=2, width=3)\n",
    "    features = np.concatenate((mfcc, delta, delta_2))\n",
    "    \n",
    "    # The 'features' calculated array is of the form (39, 74), whose mfcc features are vectors of length 39\n",
    "    # we will transpose the matrix\n",
    "    return features.T"
   ]
  },
  {
   "cell_type": "markdown",
   "id": "f6cfd147-34d5-457c-97e8-af4f71bf19eb",
   "metadata": {},
   "source": [
    "#### 2.3 Calculate MFCC over dataframe"
   ]
  },
  {
   "cell_type": "code",
   "execution_count": 111,
   "id": "82da8974-496c-41c0-b589-d11afd600371",
   "metadata": {},
   "outputs": [],
   "source": [
    "# del df['mfcc_origin']"
   ]
  },
  {
   "cell_type": "code",
   "execution_count": 112,
   "id": "1304fd71-b763-44f6-8fa1-dd99c8557927",
   "metadata": {},
   "outputs": [],
   "source": [
    "for fid in fids:\n",
    "    sound_file_path = os.path.join(fid+\".wav\")\n",
    "    # optimize calculation speed by read files only once\n",
    "    sound, sr = librosa.load(sound_file_path)\n",
    "    dfi = df[df[\"fid\"] == fid]\n",
    "    \n",
    "    # store mfcc in \n",
    "    # 'apply' function is used dataframe along data vertical axis\n",
    "    df.loc[df[\"fid\"] == fid, \"mfcc_origin\"] = dfi.apply(get_mfcc_features, args=(sound, c.sr, c.hop_length), axis=1)"
   ]
  },
  {
   "cell_type": "code",
   "execution_count": 113,
   "id": "66a0f4c5-43c1-4276-a640-1e2e85a407b4",
   "metadata": {},
   "outputs": [
    {
     "data": {
      "text/html": [
       "<div>\n",
       "<style scoped>\n",
       "    .dataframe tbody tr th:only-of-type {\n",
       "        vertical-align: middle;\n",
       "    }\n",
       "\n",
       "    .dataframe tbody tr th {\n",
       "        vertical-align: top;\n",
       "    }\n",
       "\n",
       "    .dataframe thead th {\n",
       "        text-align: right;\n",
       "    }\n",
       "</style>\n",
       "<table border=\"1\" class=\"dataframe\">\n",
       "  <thead>\n",
       "    <tr style=\"text-align: right;\">\n",
       "      <th></th>\n",
       "      <th>fid</th>\n",
       "      <th>label</th>\n",
       "      <th>start</th>\n",
       "      <th>end</th>\n",
       "      <th>mfcc_origin</th>\n",
       "    </tr>\n",
       "  </thead>\n",
       "  <tbody>\n",
       "    <tr>\n",
       "      <th>0</th>\n",
       "      <td>./19021372_BuiVanToan\\1-10</td>\n",
       "      <td>sil</td>\n",
       "      <td>0.000000</td>\n",
       "      <td>2.426485</td>\n",
       "      <td>[[-296.9526, 123.99669, -0.2854234, 9.288038, ...</td>\n",
       "    </tr>\n",
       "    <tr>\n",
       "      <th>1</th>\n",
       "      <td>./19021372_BuiVanToan\\1-10</td>\n",
       "      <td>7</td>\n",
       "      <td>2.426485</td>\n",
       "      <td>2.821224</td>\n",
       "      <td>[[-378.6088, 114.13159, 6.1494083, 7.1754503, ...</td>\n",
       "    </tr>\n",
       "    <tr>\n",
       "      <th>2</th>\n",
       "      <td>./19021372_BuiVanToan\\1-10</td>\n",
       "      <td>tram</td>\n",
       "      <td>3.181134</td>\n",
       "      <td>3.657143</td>\n",
       "      <td>[[-488.46213, 128.77538, -14.592409, 19.957142...</td>\n",
       "    </tr>\n",
       "  </tbody>\n",
       "</table>\n",
       "</div>"
      ],
      "text/plain": [
       "                          fid label     start       end  \\\n",
       "0  ./19021372_BuiVanToan\\1-10   sil  0.000000  2.426485   \n",
       "1  ./19021372_BuiVanToan\\1-10     7  2.426485  2.821224   \n",
       "2  ./19021372_BuiVanToan\\1-10  tram  3.181134  3.657143   \n",
       "\n",
       "                                         mfcc_origin  \n",
       "0  [[-296.9526, 123.99669, -0.2854234, 9.288038, ...  \n",
       "1  [[-378.6088, 114.13159, 6.1494083, 7.1754503, ...  \n",
       "2  [[-488.46213, 128.77538, -14.592409, 19.957142...  "
      ]
     },
     "execution_count": 113,
     "metadata": {},
     "output_type": "execute_result"
    }
   ],
   "source": [
    "df.head(3)"
   ]
  },
  {
   "cell_type": "code",
   "execution_count": 114,
   "id": "6ca25113-3276-431e-88f9-c30f0a861948",
   "metadata": {},
   "outputs": [
    {
     "data": {
      "text/plain": [
       "fid            0\n",
       "label          0\n",
       "start          0\n",
       "end            0\n",
       "mfcc_origin    0\n",
       "dtype: int64"
      ]
     },
     "execution_count": 114,
     "metadata": {},
     "output_type": "execute_result"
    }
   ],
   "source": [
    "df.isnull().sum()"
   ]
  },
  {
   "cell_type": "markdown",
   "id": "0158f50f-1c6d-4b6e-a7d0-0e9a8c61df9c",
   "metadata": {},
   "source": [
    "#### 2.4 Function to normalize MFCC."
   ]
  },
  {
   "cell_type": "code",
   "execution_count": 115,
   "id": "431840fa-0251-4e7f-8de7-d986bf9fece6",
   "metadata": {},
   "outputs": [],
   "source": [
    "def preprocess_mfcc(mfcc):\n",
    "    # distance normalization (39 dimensional data)\n",
    "    # return librosa.util.normalize(mfcc, axis=1)\n",
    "    return librosa.util.normalize(mfcc, norm=1)"
   ]
  },
  {
   "cell_type": "markdown",
   "id": "5f669c90-85c9-4839-b052-60bcac4c397d",
   "metadata": {},
   "source": [
    "#### 2.5 Normalize MFCC over dataframe"
   ]
  },
  {
   "cell_type": "code",
   "execution_count": 116,
   "id": "dbe37021-85df-419f-8570-5f645402e5e0",
   "metadata": {},
   "outputs": [],
   "source": [
    "df['mfcc_norma'] = df['mfcc_origin'].apply(preprocess_mfcc)"
   ]
  },
  {
   "cell_type": "code",
   "execution_count": 117,
   "id": "9d495d3c-0e83-41f2-aaa2-386b65415126",
   "metadata": {},
   "outputs": [
    {
     "data": {
      "text/html": [
       "<div>\n",
       "<style scoped>\n",
       "    .dataframe tbody tr th:only-of-type {\n",
       "        vertical-align: middle;\n",
       "    }\n",
       "\n",
       "    .dataframe tbody tr th {\n",
       "        vertical-align: top;\n",
       "    }\n",
       "\n",
       "    .dataframe thead th {\n",
       "        text-align: right;\n",
       "    }\n",
       "</style>\n",
       "<table border=\"1\" class=\"dataframe\">\n",
       "  <thead>\n",
       "    <tr style=\"text-align: right;\">\n",
       "      <th></th>\n",
       "      <th>fid</th>\n",
       "      <th>label</th>\n",
       "      <th>start</th>\n",
       "      <th>end</th>\n",
       "      <th>mfcc_origin</th>\n",
       "      <th>mfcc_norma</th>\n",
       "    </tr>\n",
       "  </thead>\n",
       "  <tbody>\n",
       "    <tr>\n",
       "      <th>0</th>\n",
       "      <td>./19021372_BuiVanToan\\1-10</td>\n",
       "      <td>sil</td>\n",
       "      <td>0.000000</td>\n",
       "      <td>2.426485</td>\n",
       "      <td>[[-296.9526, 123.99669, -0.2854234, 9.288038, ...</td>\n",
       "      <td>[[-0.0034401976, 0.0034305984, -6.283296e-05, ...</td>\n",
       "    </tr>\n",
       "    <tr>\n",
       "      <th>1</th>\n",
       "      <td>./19021372_BuiVanToan\\1-10</td>\n",
       "      <td>7</td>\n",
       "      <td>2.426485</td>\n",
       "      <td>2.821224</td>\n",
       "      <td>[[-378.6088, 114.13159, 6.1494083, 7.1754503, ...</td>\n",
       "      <td>[[-0.03010174, 0.016774641, 0.004588213, 0.007...</td>\n",
       "    </tr>\n",
       "    <tr>\n",
       "      <th>2</th>\n",
       "      <td>./19021372_BuiVanToan\\1-10</td>\n",
       "      <td>tram</td>\n",
       "      <td>3.181134</td>\n",
       "      <td>3.657143</td>\n",
       "      <td>[[-488.46213, 128.77538, -14.592409, 19.957142...</td>\n",
       "      <td>[[-0.034174513, 0.021232355, -0.006877562, 0.0...</td>\n",
       "    </tr>\n",
       "  </tbody>\n",
       "</table>\n",
       "</div>"
      ],
      "text/plain": [
       "                          fid label     start       end  \\\n",
       "0  ./19021372_BuiVanToan\\1-10   sil  0.000000  2.426485   \n",
       "1  ./19021372_BuiVanToan\\1-10     7  2.426485  2.821224   \n",
       "2  ./19021372_BuiVanToan\\1-10  tram  3.181134  3.657143   \n",
       "\n",
       "                                         mfcc_origin  \\\n",
       "0  [[-296.9526, 123.99669, -0.2854234, 9.288038, ...   \n",
       "1  [[-378.6088, 114.13159, 6.1494083, 7.1754503, ...   \n",
       "2  [[-488.46213, 128.77538, -14.592409, 19.957142...   \n",
       "\n",
       "                                          mfcc_norma  \n",
       "0  [[-0.0034401976, 0.0034305984, -6.283296e-05, ...  \n",
       "1  [[-0.03010174, 0.016774641, 0.004588213, 0.007...  \n",
       "2  [[-0.034174513, 0.021232355, -0.006877562, 0.0...  "
      ]
     },
     "execution_count": 117,
     "metadata": {},
     "output_type": "execute_result"
    }
   ],
   "source": [
    "df.head(3)"
   ]
  },
  {
   "cell_type": "markdown",
   "id": "bb570987-7043-41e7-9b18-1c32403a163a",
   "metadata": {},
   "source": [
    "### 2.6 Reduce the number of states(frame) of MFCC (Segmental k-means).\n",
    "Shape of MFCC (frame, band)"
   ]
  },
  {
   "cell_type": "markdown",
   "id": "b2cd9051-c914-4dad-ac4f-2b215f9fc5d8",
   "metadata": {},
   "source": [
    "### 2.7 Create state dict for 'word'/'sound'"
   ]
  },
  {
   "cell_type": "code",
   "execution_count": 118,
   "id": "0a67377d-7d41-494a-a8de-1719ba0b6116",
   "metadata": {},
   "outputs": [
    {
     "name": "stdout",
     "output_type": "stream",
     "text": [
      "label:  nghin\n"
     ]
    }
   ],
   "source": [
    "i_th = 12\n",
    "print(\"label: \", df['label'].iloc[i_th])\n",
    "m = df['mfcc_origin'].iloc[i_th]"
   ]
  },
  {
   "cell_type": "code",
   "execution_count": 119,
   "id": "46bf41cc-e151-474f-a805-cc6114eb9840",
   "metadata": {},
   "outputs": [
    {
     "data": {
      "text/plain": [
       "(51, 39)"
      ]
     },
     "execution_count": 119,
     "metadata": {},
     "output_type": "execute_result"
    }
   ],
   "source": [
    "m.shape"
   ]
  },
  {
   "cell_type": "code",
   "execution_count": 120,
   "id": "7e3a0e90-f543-4ac8-8f12-6d5cfe83a676",
   "metadata": {},
   "outputs": [],
   "source": [
    "n_frames = []\n",
    "n_labels = list(df['label'])\n",
    "\n",
    "for i in range(len(df)):\n",
    "    f, b = df['mfcc_origin'].iloc[i].shape\n",
    "    n_frames.append(f)"
   ]
  },
  {
   "cell_type": "code",
   "execution_count": 121,
   "id": "964cb359-33b4-4f60-acef-32594eb4d81f",
   "metadata": {},
   "outputs": [
    {
     "data": {
      "text/plain": [
       "9770"
      ]
     },
     "execution_count": 121,
     "metadata": {},
     "output_type": "execute_result"
    }
   ],
   "source": [
    "len(n_frames)"
   ]
  },
  {
   "cell_type": "code",
   "execution_count": 122,
   "id": "c4c9b626-9575-45b3-8e30-dd513a489e09",
   "metadata": {},
   "outputs": [],
   "source": [
    "state_dict = {}\n",
    "\n",
    "from collections import Counter\n",
    "\n",
    "for l in set(labels):\n",
    "    if l == 'sil':\n",
    "        continue\n",
    "        \n",
    "    a = []\n",
    "    for i in range(len(df)):\n",
    "        if n_labels[i] == l:\n",
    "            # print(n_labels[i], \":\", n_frames[i])\n",
    "            a.append(n_frames[i])\n",
    "    \n",
    "    state_dict[l] = int(np.ceil(np.mean(a)) - 9)\n",
    "    \n",
    "state_dict['sil'] = 38"
   ]
  },
  {
   "cell_type": "code",
   "execution_count": 123,
   "id": "5a16a19d-9602-435e-9507-a08bf4ee2f4f",
   "metadata": {},
   "outputs": [
    {
     "data": {
      "text/plain": [
       "{'linh': 20,\n",
       " '9': 25,\n",
       " '6': 29,\n",
       " '5': 20,\n",
       " '2': 25,\n",
       " '7': 20,\n",
       " '3': 21,\n",
       " '4': 20,\n",
       " 'mot': 16,\n",
       " '0': 26,\n",
       " 'tram': 23,\n",
       " 'tu': 24,\n",
       " '1': 19,\n",
       " 'muoi': 15,\n",
       " '8': 21,\n",
       " 'lam': 21,\n",
       " 'trieu': 29,\n",
       " 'nghin': 27,\n",
       " 'm1': 19,\n",
       " 'sil': 38}"
      ]
     },
     "execution_count": 123,
     "metadata": {},
     "output_type": "execute_result"
    }
   ],
   "source": [
    "state_dict"
   ]
  },
  {
   "cell_type": "code",
   "execution_count": 124,
   "id": "9ca5b148-8ceb-4af8-a628-63ff57478464",
   "metadata": {},
   "outputs": [],
   "source": [
    "state_dict = {'linh': 18,\n",
    " '9': 21,\n",
    " '6': 24,\n",
    " '5': 21,\n",
    " '2': 21,\n",
    " '7': 20,\n",
    " '3': 21,\n",
    " '4': 20,\n",
    " 'mot': 16,\n",
    " '0': 22,\n",
    " 'tram': 20,\n",
    " 'tu': 24,\n",
    " '1': 19,\n",
    " 'muoi': 15,\n",
    " '8': 21,\n",
    " 'lam': 21,\n",
    " 'trieu': 24,\n",
    " 'nghin': 23,\n",
    " 'm1': 16,\n",
    " 'sil': 38}"
   ]
  },
  {
   "cell_type": "markdown",
   "id": "4f0888e7-0ded-44ca-8ec6-ae656f17511b",
   "metadata": {},
   "source": [
    "### 2.8 Reduce state / Segmantal K-means MFCCs"
   ]
  },
  {
   "cell_type": "code",
   "execution_count": 125,
   "id": "c4f75041-789f-4669-a22d-26a3dafd627b",
   "metadata": {},
   "outputs": [],
   "source": [
    "from sklearn.cluster import SpectralClustering\n",
    "from sklearn.cluster import KMeans"
   ]
  },
  {
   "cell_type": "code",
   "execution_count": 126,
   "id": "777e969e-913b-4d90-8927-2fa8019053b8",
   "metadata": {},
   "outputs": [],
   "source": [
    "def reduce_mfcc_state(mfcc_norma, label, state_dict):\n",
    "    \n",
    "    if label == 'sil':\n",
    "        return mfcc_norma\n",
    "    \n",
    "    n_state, b = mfcc_norma.shape\n",
    "    if n_state > state_dict[label] :\n",
    "        n_state = state_dict[label]\n",
    "    \n",
    "    clustering = KMeans(n_clusters=n_state,\n",
    "#          assign_labels='discretize',\n",
    "         random_state=0).fit(mfcc_norma)\n",
    "    \n",
    "    state = list(clustering.labels_)\n",
    "    state.append(None)\n",
    "\n",
    "    # lấy ra mảng chỉ mục của các frame giống nhau ở cạnh nhau\n",
    "    idx_arr = []\n",
    "    idx_arr_of_states = []\n",
    "    for i in range(len(state)-1):\n",
    "        idx_arr.append(i)\n",
    "\n",
    "        if state[i] != state[i+1]:\n",
    "            idx_arr_of_states.append(idx_arr)\n",
    "            idx_arr = []\n",
    "    \n",
    "    # tính mean các frame giống nhau, là 1 frame mới\n",
    "    mfcc_feat = []\n",
    "    for arr in idx_arr_of_states:\n",
    "        \n",
    "        mfcc_i = np.mean([mfcc_norma[idx] for idx in arr], axis=0)\n",
    "\n",
    "        mfcc_feat.append(mfcc_i)\n",
    "        \n",
    "    return np.array(mfcc_feat)"
   ]
  },
  {
   "cell_type": "markdown",
   "id": "2615949a-c7da-4275-bf31-9cf8baf14d5d",
   "metadata": {},
   "source": [
    "Check the reduce_mfcc_state function has output same as the expected output"
   ]
  },
  {
   "cell_type": "code",
   "execution_count": 127,
   "id": "6d642b64-0581-486a-b87b-d47a998351a2",
   "metadata": {},
   "outputs": [
    {
     "name": "stdout",
     "output_type": "stream",
     "text": [
      "[-0.03063438  0.02194486 -0.00625493  0.00240583  0.00709179  0.00765732\n",
      "  0.02965748  0.00097861 -0.0087722  -0.01955744 -0.0106822  -0.01197451\n",
      " -0.01671942  0.0013625   0.11110691 -0.05285965  0.00851604  0.02376341\n",
      " -0.03457373 -0.00994516  0.02201542 -0.00578886 -0.01572862 -0.02038442\n",
      " -0.00365612 -0.02766761  0.04630173 -0.07330771  0.06353993  0.04092852\n",
      "  0.0507398  -0.00488324 -0.06163172 -0.01466724  0.03506643  0.01801992\n",
      "  0.02044023  0.00036431  0.04758816]\n",
      "[-0.03063438  0.02194486 -0.00625493  0.00240583  0.00709179  0.00765732\n",
      "  0.02965748  0.00097861 -0.0087722  -0.01955744 -0.0106822  -0.01197451\n",
      " -0.01671942  0.0013625   0.11110691 -0.05285965  0.00851604  0.02376341\n",
      " -0.03457373 -0.00994516  0.02201542 -0.00578886 -0.01572862 -0.02038442\n",
      " -0.00365612 -0.02766761  0.04630173 -0.07330771  0.06353993  0.04092852\n",
      "  0.0507398  -0.00488324 -0.06163172 -0.01466724  0.03506643  0.01801992\n",
      "  0.02044023  0.00036431  0.04758816]\n",
      "True\n"
     ]
    }
   ],
   "source": [
    "a = df['mfcc_norma'].iloc[1]\n",
    "b = df['label'].iloc[1]\n",
    "\n",
    "# first frame / expected output ( for data i_th)\n",
    "t = (a[0]+a[1])/2\n",
    "\n",
    "# real output\n",
    "r = reduce_mfcc_state(a, b, state_dict)[0]\n",
    "\n",
    "print(t)\n",
    "print(r)\n",
    "\n",
    "print(sum(t-r) == 0 )"
   ]
  },
  {
   "cell_type": "code",
   "execution_count": 128,
   "id": "f74d235f-3786-4603-bbaf-2c44047b6c76",
   "metadata": {},
   "outputs": [],
   "source": [
    "# del df['mfcc_feat']"
   ]
  },
  {
   "cell_type": "code",
   "execution_count": 129,
   "id": "d70a4ff0-73bf-4fe6-bd54-de9a59166e63",
   "metadata": {},
   "outputs": [],
   "source": [
    "df['mfcc_feat'] = df.apply(lambda x: reduce_mfcc_state(x.mfcc_norma, x.label, state_dict),  axis=1)"
   ]
  },
  {
   "cell_type": "code",
   "execution_count": 130,
   "id": "b13c0460-f5ed-433a-83f3-376f08906624",
   "metadata": {},
   "outputs": [
    {
     "data": {
      "text/html": [
       "<div>\n",
       "<style scoped>\n",
       "    .dataframe tbody tr th:only-of-type {\n",
       "        vertical-align: middle;\n",
       "    }\n",
       "\n",
       "    .dataframe tbody tr th {\n",
       "        vertical-align: top;\n",
       "    }\n",
       "\n",
       "    .dataframe thead th {\n",
       "        text-align: right;\n",
       "    }\n",
       "</style>\n",
       "<table border=\"1\" class=\"dataframe\">\n",
       "  <thead>\n",
       "    <tr style=\"text-align: right;\">\n",
       "      <th></th>\n",
       "      <th>fid</th>\n",
       "      <th>label</th>\n",
       "      <th>start</th>\n",
       "      <th>end</th>\n",
       "      <th>mfcc_origin</th>\n",
       "      <th>mfcc_norma</th>\n",
       "      <th>mfcc_feat</th>\n",
       "    </tr>\n",
       "  </thead>\n",
       "  <tbody>\n",
       "    <tr>\n",
       "      <th>0</th>\n",
       "      <td>./19021372_BuiVanToan\\1-10</td>\n",
       "      <td>sil</td>\n",
       "      <td>0.000000</td>\n",
       "      <td>2.426485</td>\n",
       "      <td>[[-296.9526, 123.99669, -0.2854234, 9.288038, ...</td>\n",
       "      <td>[[-0.0034401976, 0.0034305984, -6.283296e-05, ...</td>\n",
       "      <td>[[-0.0034401976, 0.0034305984, -6.283296e-05, ...</td>\n",
       "    </tr>\n",
       "    <tr>\n",
       "      <th>1</th>\n",
       "      <td>./19021372_BuiVanToan\\1-10</td>\n",
       "      <td>7</td>\n",
       "      <td>2.426485</td>\n",
       "      <td>2.821224</td>\n",
       "      <td>[[-378.6088, 114.13159, 6.1494083, 7.1754503, ...</td>\n",
       "      <td>[[-0.03010174, 0.016774641, 0.004588213, 0.007...</td>\n",
       "      <td>[[-0.030634377, 0.021944862, -0.006254934, 0.0...</td>\n",
       "    </tr>\n",
       "    <tr>\n",
       "      <th>2</th>\n",
       "      <td>./19021372_BuiVanToan\\1-10</td>\n",
       "      <td>tram</td>\n",
       "      <td>3.181134</td>\n",
       "      <td>3.657143</td>\n",
       "      <td>[[-488.46213, 128.77538, -14.592409, 19.957142...</td>\n",
       "      <td>[[-0.034174513, 0.021232355, -0.006877562, 0.0...</td>\n",
       "      <td>[[-0.0329436, 0.020918448, -0.006619167, 0.013...</td>\n",
       "    </tr>\n",
       "  </tbody>\n",
       "</table>\n",
       "</div>"
      ],
      "text/plain": [
       "                          fid label     start       end  \\\n",
       "0  ./19021372_BuiVanToan\\1-10   sil  0.000000  2.426485   \n",
       "1  ./19021372_BuiVanToan\\1-10     7  2.426485  2.821224   \n",
       "2  ./19021372_BuiVanToan\\1-10  tram  3.181134  3.657143   \n",
       "\n",
       "                                         mfcc_origin  \\\n",
       "0  [[-296.9526, 123.99669, -0.2854234, 9.288038, ...   \n",
       "1  [[-378.6088, 114.13159, 6.1494083, 7.1754503, ...   \n",
       "2  [[-488.46213, 128.77538, -14.592409, 19.957142...   \n",
       "\n",
       "                                          mfcc_norma  \\\n",
       "0  [[-0.0034401976, 0.0034305984, -6.283296e-05, ...   \n",
       "1  [[-0.03010174, 0.016774641, 0.004588213, 0.007...   \n",
       "2  [[-0.034174513, 0.021232355, -0.006877562, 0.0...   \n",
       "\n",
       "                                           mfcc_feat  \n",
       "0  [[-0.0034401976, 0.0034305984, -6.283296e-05, ...  \n",
       "1  [[-0.030634377, 0.021944862, -0.006254934, 0.0...  \n",
       "2  [[-0.0329436, 0.020918448, -0.006619167, 0.013...  "
      ]
     },
     "execution_count": 130,
     "metadata": {},
     "output_type": "execute_result"
    }
   ],
   "source": [
    "df.head(3)"
   ]
  },
  {
   "cell_type": "code",
   "execution_count": 131,
   "id": "0b898fa5-80ef-4652-849f-784072ef9d89",
   "metadata": {},
   "outputs": [
    {
     "data": {
      "text/plain": [
       "(28, 39)"
      ]
     },
     "execution_count": 131,
     "metadata": {},
     "output_type": "execute_result"
    }
   ],
   "source": [
    "df['mfcc_feat'].iloc[100].shape"
   ]
  },
  {
   "cell_type": "markdown",
   "id": "5bd80406-4499-4f32-a36b-245d0eecd2c8",
   "metadata": {},
   "source": [
    "# III. HMM for speech regconition"
   ]
  },
  {
   "cell_type": "code",
   "execution_count": 132,
   "id": "a9c81afe-75cc-48ab-b863-ebd39c68a65e",
   "metadata": {},
   "outputs": [],
   "source": [
    "from hmmlearn import hmm"
   ]
  },
  {
   "cell_type": "code",
   "execution_count": 133,
   "id": "5c75df5f-598a-410d-9361-857d23662974",
   "metadata": {},
   "outputs": [
    {
     "name": "stdout",
     "output_type": "stream",
     "text": [
      "['sil', '7', 'tram', '6', 'muoi', '9', 'trieu', '8', '3', '2', 'nghin', 'linh', '4', '5', 'tu', 'mot', 'm1', 'lam', '1', '0']\n"
     ]
    }
   ],
   "source": [
    "print(labels)"
   ]
  },
  {
   "cell_type": "markdown",
   "id": "1c3568ed-f1b2-43ac-adbc-7365aecc75b6",
   "metadata": {},
   "source": [
    "### 3.1 Function to divide train/test data\n",
    "Format dictinary:  ( label: [ mfcc_feats ] )"
   ]
  },
  {
   "cell_type": "code",
   "execution_count": 134,
   "id": "735c18de-32c3-4d05-883c-7a87edb99802",
   "metadata": {},
   "outputs": [],
   "source": [
    "def buildDataDictForMFCC(df, set_labels, train_rate):\n",
    "    \n",
    "    trainDataDict = {}\n",
    "    testDataDict = {}\n",
    "    \n",
    "    for l in set_labels:\n",
    "        df_sl = df[df['label'] == l]\n",
    "        msk = np.random.rand(len(df_sl)) < train_rate\n",
    "        \n",
    "        train_l = df_sl['mfcc_feat'][msk]\n",
    "        test_l = df_sl['mfcc_feat'][~msk]\n",
    "        \n",
    "        trainDataDict[l] = np.array(train_l)\n",
    "        testDataDict[l] = np.array(test_l)\n",
    "        \n",
    "    return trainDataDict, testDataDict"
   ]
  },
  {
   "cell_type": "markdown",
   "id": "f5ed2f7c-e0af-489e-9c55-97b96a151aba",
   "metadata": {},
   "source": [
    "Test sum amount data of label"
   ]
  },
  {
   "cell_type": "code",
   "execution_count": 135,
   "id": "530ea2f7-5cf0-408b-86b8-8c4b4f570678",
   "metadata": {},
   "outputs": [],
   "source": [
    "trainDataDict, testDataDict = buildDataDictForMFCC(df, labels , 0.8)"
   ]
  },
  {
   "cell_type": "code",
   "execution_count": 136,
   "id": "d8d99979-88c7-4102-8daa-e3a30a1b9ad2",
   "metadata": {},
   "outputs": [
    {
     "data": {
      "text/plain": [
       "1546"
      ]
     },
     "execution_count": 136,
     "metadata": {},
     "output_type": "execute_result"
    }
   ],
   "source": [
    "len(df[df['label'] == 'sil'])"
   ]
  },
  {
   "cell_type": "code",
   "execution_count": 137,
   "id": "18042082-5ac6-4a22-a9d9-d876aa0dd3b8",
   "metadata": {},
   "outputs": [
    {
     "data": {
      "text/plain": [
       "1212"
      ]
     },
     "execution_count": 137,
     "metadata": {},
     "output_type": "execute_result"
    }
   ],
   "source": [
    "len(trainDataDict['sil'])"
   ]
  },
  {
   "cell_type": "code",
   "execution_count": 138,
   "id": "71f8e1c8-c589-46e9-b223-4e4ecfe913d8",
   "metadata": {},
   "outputs": [
    {
     "data": {
      "text/plain": [
       "334"
      ]
     },
     "execution_count": 138,
     "metadata": {},
     "output_type": "execute_result"
    }
   ],
   "source": [
    "len(testDataDict['sil'])"
   ]
  },
  {
   "cell_type": "markdown",
   "id": "3e8eba4f-f76f-4375-bddf-603d3abe87b7",
   "metadata": {},
   "source": [
    "### 3.2 Function to train the model hmm\n",
    "input is a data dictionary by each label"
   ]
  },
  {
   "cell_type": "code",
   "execution_count": 151,
   "id": "d6fdc5f4-c430-40c0-b7c9-eee1f0dcd86d",
   "metadata": {},
   "outputs": [],
   "source": [
    "def train_GMMHMM(trainDataDict):\n",
    "    \n",
    "    GMMHMM_Models = {}\n",
    "#     states_num = 5\n",
    "#     GMM_mix_num = 6\n",
    "#     tmp_p = 1.0/(states_num-2)\n",
    "#     transmatPrior = np.array([[tmp_p, tmp_p, tmp_p, 0 ,0], \\\n",
    "#                                [0, tmp_p, tmp_p, tmp_p , 0], \\\n",
    "#                                [0, 0, tmp_p, tmp_p,tmp_p], \\\n",
    "#                                [0, 0, 0, 0.5, 0.5], \\\n",
    "#                                [0, 0, 0, 0, 1]],dtype=np.float64)\n",
    "\n",
    "\n",
    "#     startprobPrior = np.array([0.3, 0.3, 0.1, 0, 0],dtype=np.float64)    \n",
    "    \n",
    "    states_num = 8\n",
    "    GMM_mix_num = 6\n",
    "    tmp_p = 1.0/(3)\n",
    "    transmatPrior = np.array([[tmp_p, tmp_p, tmp_p,0, 0, 0 ,0, 0], \\\n",
    "                               [0, tmp_p, tmp_p, tmp_p, 0, 0, 0 ,0], \\\n",
    "                               [0, 0, tmp_p, tmp_p, tmp_p, 0, 0, 0], \\\n",
    "                               [0, 0, 0, tmp_p, tmp_p, tmp_p, 0, 0], \\\n",
    "                               [0, 0, 0, 0, tmp_p, tmp_p, tmp_p, 0], \\\n",
    "                               [0, 0, 0, 0, 0, tmp_p, tmp_p, tmp_p], \\\n",
    "                               [0, 0, 0, 0, 0, 0, 0.5, 0.5], \\\n",
    "                                  [0, 0, 0, 0, 0, 0, 0, 1]],dtype=np.float64)\n",
    "\n",
    "\n",
    "    startprobPrior = np.array([0.3, 0.3, 0.1, 0, 0, 0, 0, 0],dtype=np.float64)    \n",
    "    \n",
    "    \n",
    "    \n",
    "    for label in trainDataDict.keys():\n",
    "        model = hmm.GMMHMM(n_components=states_num, n_mix=GMM_mix_num, \\\n",
    "                           transmat_prior=transmatPrior, startprob_prior=startprobPrior, \\\n",
    "                           covariance_type='diag', n_iter=10)\n",
    "        trainData = trainDataDict[label]\n",
    "        length = np.zeros([len(trainData), ], dtype=np.int32)\n",
    "        for m in range(len(trainData)):\n",
    "            length[m] = trainData[m].shape[0]\n",
    "        trainData = np.vstack(trainData)\n",
    "        model.fit(trainData, lengths=length)  # get optimal parameters\n",
    "        GMMHMM_Models[label] = model\n",
    "    return GMMHMM_Models"
   ]
  },
  {
   "cell_type": "markdown",
   "id": "fa31464d-eaea-41c0-a600-81fff14996d7",
   "metadata": {},
   "source": [
    "Convert test data to format (label: mfcc_feat)"
   ]
  },
  {
   "cell_type": "code",
   "execution_count": 152,
   "id": "694838c3-f2c9-49c3-b83f-cf5d3e91457e",
   "metadata": {},
   "outputs": [],
   "source": [
    "def prepare_test_data(testDataDict):\n",
    "    pairOfTestData = []\n",
    "    \n",
    "    for l in testDataDict.keys():\n",
    "        for mfcc_feat in testDataDict[l]:\n",
    "            pairOfTestData.append((l, mfcc_feat))\n",
    "            \n",
    "    return pairOfTestData"
   ]
  },
  {
   "cell_type": "markdown",
   "id": "fee3aa0d-5003-45fd-ac89-7ab24690ccba",
   "metadata": {},
   "source": [
    "### 3.3 Training"
   ]
  },
  {
   "cell_type": "code",
   "execution_count": 153,
   "id": "2c351873-e44c-4db9-9dd7-72ef8f35b3f2",
   "metadata": {},
   "outputs": [
    {
     "name": "stdout",
     "output_type": "stream",
     "text": [
      "Finish prepare the training/testing data\n",
      "Finish training of the GMM_HMM models for voice recognition reading numbers Vietnamese.\n"
     ]
    }
   ],
   "source": [
    "trainDataDict, testDataDict = buildDataDictForMFCC(df, labels , 0.8)\n",
    "pairOfTestData = prepare_test_data(testDataDict)\n",
    "print(\"Finish prepare the training/testing data\")\n",
    "\n",
    "hmmModels = train_GMMHMM(trainDataDict)\n",
    "print(\"Finish training of the GMM_HMM models for voice recognition reading numbers Vietnamese.\")"
   ]
  },
  {
   "cell_type": "markdown",
   "id": "8cfe95d0-c8eb-4d44-b356-cbbb80b76c1c",
   "metadata": {},
   "source": [
    "### 3.4 Testing"
   ]
  },
  {
   "cell_type": "code",
   "execution_count": 154,
   "id": "6cbd7402-cd07-4c84-9cf7-9acbde12b971",
   "metadata": {},
   "outputs": [
    {
     "name": "stdout",
     "output_type": "stream",
     "text": [
      "i_th : (True_label, pred_label)\n",
      "Warning: Degenerate mixture covariance\n"
     ]
    }
   ],
   "source": [
    "true_label = []\n",
    "pred_label = []\n",
    "\n",
    "import logging\n",
    "logging.getLogger(\"hmmlearn\").setLevel(\"CRITICAL\")\n",
    "\n",
    "i_th = 0\n",
    "\n",
    "print(\"i_th : (True_label, pred_label)\")\n",
    "\n",
    "for l, mfcc_feat in pairOfTestData:\n",
    "    scoreList = {}\n",
    "    for model_label in hmmModels.keys():\n",
    "        model = hmmModels[model_label]\n",
    "        score = model.score(mfcc_feat)\n",
    "        scoreList[model_label] = score\n",
    "    predict = max(scoreList, key=scoreList.get)\n",
    "#     print(i_th, \"th :\", (l, predict))\n",
    "#     i_th += 1\n",
    "    \n",
    "    true_label.append(l)\n",
    "    pred_label.append(predict)\n",
    "    \n",
    "print(\"Warning: Degenerate mixture covariance\")"
   ]
  },
  {
   "cell_type": "markdown",
   "id": "99cbcf85-625c-45d5-8988-d9c7d4e8fdfb",
   "metadata": {},
   "source": [
    "### 3.5 Result / Metrics"
   ]
  },
  {
   "cell_type": "code",
   "execution_count": 155,
   "id": "b26a982f-da2f-4b31-9f1e-fca0287656df",
   "metadata": {},
   "outputs": [
    {
     "name": "stdout",
     "output_type": "stream",
     "text": [
      "['sil', '7', 'tram', '6', 'muoi', '9', 'trieu', '8', '3', '2', 'nghin', 'linh', '4', '5', 'tu', 'mot', 'm1', 'lam', '1', '0']\n",
      "\n",
      "Confusion matrix on test data: \n",
      " [[285   0   0   0   7   0   0   0   0   1   1   0   1   1   0   0   0   0\n",
      "    1   0]\n",
      " [  0  92   0   0   2   0   0   0   2   1   0   0   0   0   0   0   0   0\n",
      "    0   0]\n",
      " [  0   0 289   2   0   0   1   0   0   0   0   0   0   0   0   0   0   0\n",
      "    0   0]\n",
      " [  0   0   3  82   0   0   0   0   0   0   0   0   0   0   0   0   0   0\n",
      "    0   0]\n",
      " [  0   0   0   0 217   0   0   0   0   0   2   3   0   1   1   0  17   0\n",
      "    0   0]\n",
      " [  0   0   1   0   0  77   0   0   0   0   0   0   0   0   0   0   0   0\n",
      "    0   0]\n",
      " [  0   0   0   0   0   1  98   0   0   0   0   0   0   0   0   0   0   0\n",
      "    0   0]\n",
      " [  0   0   0   0   0   0   0 106   1   1   0   0   0   1   0   0   0   0\n",
      "    0   0]\n",
      " [  0   1   0   0   0   0   0   0  84   3   0   0   0   1   0   0   0   0\n",
      "    0   0]\n",
      " [  0   0   0   0   1   0   0   0   3  91   0   0   0   1   0   0   0   0\n",
      "    0   0]\n",
      " [  1   0   0   0   0   1   1   0   0   0 101   1   3   0   0   0   0   0\n",
      "    0   0]\n",
      " [  1   0   0   0   3   0   0   0   0   0   3  28   0   0   0   0   0   0\n",
      "    0   0]\n",
      " [  0   0   0   0   0   0   0   0   0   0   0   0  69   0   1   0   0   0\n",
      "    1   0]\n",
      " [  0   0   0   0   0   0   0   0   0   0   0   0   0  70   0   0   0   1\n",
      "    0   0]\n",
      " [  0   0   0   0   0   0   0   0   0   0   1   0   0   0  17   0   0   0\n",
      "    1   0]\n",
      " [  0   0   0   0   1   0   0   0   0   0   0   0   0   0   0  23   0   0\n",
      "    6   0]\n",
      " [  0   4   0   0  14   0   0   0   0   0   0   0   0   0   0   0  14   0\n",
      "    0   0]\n",
      " [  0   0   1   0   0   0   0   0   0   0   0   0   0   1   0   0   0  16\n",
      "    0   0]\n",
      " [  2   0   0   0   0   0   0   0   0   0   0   0   1   0   0   2   0   0\n",
      "   29   0]\n",
      " [  0   0   0   0   0   0   0   0   0   0   0   0   0   0   0   0   0   0\n",
      "    0  22]]\n",
      "\n",
      "Classification report on test data: \n",
      "               precision    recall  f1-score   support\n",
      "\n",
      "         sil       0.99      0.96      0.97       297\n",
      "           7       0.95      0.95      0.95        97\n",
      "        tram       0.98      0.99      0.99       292\n",
      "           6       0.98      0.96      0.97        85\n",
      "        muoi       0.89      0.90      0.89       241\n",
      "           9       0.97      0.99      0.98        78\n",
      "       trieu       0.98      0.99      0.98        99\n",
      "           8       1.00      0.97      0.99       109\n",
      "           3       0.93      0.94      0.94        89\n",
      "           2       0.94      0.95      0.94        96\n",
      "       nghin       0.94      0.94      0.94       108\n",
      "        linh       0.88      0.80      0.84        35\n",
      "           4       0.93      0.97      0.95        71\n",
      "           5       0.92      0.99      0.95        71\n",
      "          tu       0.89      0.89      0.89        19\n",
      "         mot       0.92      0.77      0.84        30\n",
      "          m1       0.45      0.44      0.44        32\n",
      "         lam       0.94      0.89      0.91        18\n",
      "           1       0.76      0.85      0.81        34\n",
      "           0       1.00      1.00      1.00        22\n",
      "\n",
      "    accuracy                           0.94      1923\n",
      "   macro avg       0.91      0.91      0.91      1923\n",
      "weighted avg       0.94      0.94      0.94      1923\n",
      "\n"
     ]
    }
   ],
   "source": [
    "# confusion matrix in sklearn\n",
    "from sklearn.metrics import confusion_matrix\n",
    "from sklearn.metrics import classification_report\n",
    "\n",
    "print(labels)\n",
    "\n",
    "# actual values\n",
    "actual = true_label\n",
    "# predicted values\n",
    "predicted = pred_label\n",
    "\n",
    "# confusion matrix\n",
    "matrix = confusion_matrix(actual,predicted, labels=labels)\n",
    "print('\\nConfusion matrix on test data: \\n',matrix)\n",
    "\n",
    "# classification report for precision, recall f1-score and accuracy\n",
    "matrix = classification_report(actual,predicted,labels=labels)\n",
    "print('\\nClassification report on test data: \\n',matrix)"
   ]
  },
  {
   "cell_type": "code",
   "execution_count": null,
   "id": "bc7d44d0-3c1c-4d12-9eb6-785f1df2563e",
   "metadata": {},
   "outputs": [],
   "source": []
  },
  {
   "cell_type": "code",
   "execution_count": null,
   "id": "11779b07-36a0-4a6c-a0a9-a7c4ea44a32a",
   "metadata": {},
   "outputs": [],
   "source": []
  }
 ],
 "metadata": {
  "kernelspec": {
   "display_name": "Python 3",
   "language": "python",
   "name": "python3"
  },
  "language_info": {
   "codemirror_mode": {
    "name": "ipython",
    "version": 3
   },
   "file_extension": ".py",
   "mimetype": "text/x-python",
   "name": "python",
   "nbconvert_exporter": "python",
   "pygments_lexer": "ipython3",
   "version": "3.8.8"
  }
 },
 "nbformat": 4,
 "nbformat_minor": 5
}
